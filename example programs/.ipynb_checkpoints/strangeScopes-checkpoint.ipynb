{
 "cells": [
  {
   "cell_type": "code",
   "execution_count": 3,
   "metadata": {},
   "outputs": [
    {
     "name": "stdout",
     "output_type": "stream",
     "text": [
      "First we'll show that an int which is passed into a function will not be altered by anything that happens within the body of the function: \n",
      "\n",
      "Int outside of function and before passing into function: 5\n",
      "Return value from function after int is passed in and processed: 80.92356687898089\n",
      "Original variable of int outside the function that we can see is unaltered by anything inside the function body: 5\n",
      " \n",
      " \n",
      "Second we'll show that a list which is passed into a function WILL be altered by anything that happens within the body of the function.\n",
      "List outside of function and before passing into function: [5, 0]\n",
      "Return value from function after list is passed in and processed: [5, 0, 0, 10, 0, 10]\n",
      "Original list outside the function that we can see IS altered by anything inside the function body: [5, 0, 0, 10, 0, 10]\n",
      " \n",
      "I am at a loss for why python would operate like this as there are mnay times I might want to see how a function will alter a list without altering the original list.\n",
      "Note in the body of the program that we never append, assign, iterate, or alter the listOutside list after assignment.\n"
     ]
    }
   ],
   "source": [
    "# This file is meant to show how lists which are entered as params into functions in python will retain any changes that were made to the list within the function\n",
    "# Which is untrue for any basic datatypes passed into functions such as int or string\n",
    "\n",
    "\n",
    "def processInt(num):\n",
    "    num *= 10\n",
    "    num /= 3.14\n",
    "    num += 65\n",
    "    return num\n",
    "\n",
    "\n",
    "def processList(eList):\n",
    "    eList += [0, 10]\n",
    "    eList += [0, 10]\n",
    "    return eList\n",
    "\n",
    "\n",
    "def main():\n",
    "    numberOutside = 5\n",
    "    print(\"First we'll show that an int which is passed into a function will not be altered by anything that happens within the body of the function: \")\n",
    "    print(\"\")\n",
    "    print(\"Int outside of function and before passing into function: \" +\n",
    "          str(numberOutside))\n",
    "    print(\"Return value from function after int is passed in and processed: \" +\n",
    "          str(processInt(numberOutside)))\n",
    "    print(\"Original variable of int outside the function that we can see is unaltered by anything inside the function body: \" + str(numberOutside))\n",
    "    print(\" \")\n",
    "    print(\" \")\n",
    "    listOutside = [5, 0]\n",
    "    print(\"Second we'll show that a list which is passed into a function WILL be altered by anything that happens within the body of the function.\")\n",
    "    print(\"List outside of function and before passing into function: \" +\n",
    "          str(listOutside))\n",
    "    print(\"Return value from function after list is passed in and processed: \" +\n",
    "          str(processList(listOutside)))\n",
    "    print(\"Original list outside the function that we can see IS altered by anything inside the function body: \" + str(listOutside))\n",
    "\n",
    "    print(\" \")\n",
    "    print(\"I am at a loss for why python would operate like this as there are many times I might want to see how a function will alter a list without altering the original list.\")\n",
    "    print(\"Note in the body of the program that we never append, assign, iterate, or alter the listOutside list after assignment.\")\n",
    "\n",
    "if __name__ == \"__main__\":\n",
    "    main()\n"
   ]
  },
  {
   "cell_type": "code",
   "execution_count": null,
   "metadata": {},
   "outputs": [],
   "source": []
  }
 ],
 "metadata": {
  "kernelspec": {
   "display_name": "Python 3",
   "language": "python",
   "name": "python3"
  },
  "language_info": {
   "codemirror_mode": {
    "name": "ipython",
    "version": 3
   },
   "file_extension": ".py",
   "mimetype": "text/x-python",
   "name": "python",
   "nbconvert_exporter": "python",
   "pygments_lexer": "ipython3",
   "version": "3.7.6"
  }
 },
 "nbformat": 4,
 "nbformat_minor": 4
}
