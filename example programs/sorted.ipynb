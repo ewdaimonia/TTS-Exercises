{
 "cells": [
  {
   "cell_type": "code",
   "execution_count": 1,
   "metadata": {},
   "outputs": [
    {
     "name": "stdout",
     "output_type": "stream",
     "text": [
      "['A', 'e', 'l', 'p', 'p']\n",
      "['A', 'e', 'l', 'p', 'p']\n",
      "['Airplane', 'Eagle', 'Line', 'Pineapple', 'Plane']\n",
      "[' ', 'Apple']\n"
     ]
    }
   ],
   "source": [
    "a = (\"Apple\")\n",
    "b = (\"A\", \"p\", \"p\", \"l\", \"e\")\n",
    "c = (\"Airplane\", \"Plane\", \"Pineapple\", \"Line\", \"Eagle\")\n",
    "d = (\"Apple\", \" \")\n",
    "\n",
    "x = [a, b, c, d]\n",
    "\n",
    "for i in x:\n",
    "\tprint(sorted(i))\n"
   ]
  },
  {
   "cell_type": "code",
   "execution_count": null,
   "metadata": {},
   "outputs": [],
   "source": []
  }
 ],
 "metadata": {
  "kernelspec": {
   "display_name": "Python 3",
   "language": "python",
   "name": "python3"
  },
  "language_info": {
   "codemirror_mode": {
    "name": "ipython",
    "version": 3
   },
   "file_extension": ".py",
   "mimetype": "text/x-python",
   "name": "python",
   "nbconvert_exporter": "python",
   "pygments_lexer": "ipython3",
   "version": "3.7.6"
  }
 },
 "nbformat": 4,
 "nbformat_minor": 4
}
