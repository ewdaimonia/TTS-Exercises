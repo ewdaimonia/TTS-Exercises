{
 "cells": [
  {
   "cell_type": "markdown",
   "metadata": {},
   "source": [
    "# Module 13: Practice Exercises"
   ]
  },
  {
   "cell_type": "markdown",
   "metadata": {},
   "source": [
    "## Exercise 1."
   ]
  },
  {
   "cell_type": "markdown",
   "metadata": {},
   "source": [
    "### Creating vectors/factors and dataframes"
   ]
  },
  {
   "cell_type": "markdown",
   "metadata": {},
   "source": [
    "We are performing RNA-Seq on cancer samples being treated with three different types of treatment (A, B, and P). You have 12 samples total, with 4 replicates per treatment. Write the R code you would use to construct your metadata table as described below.\n",
    "\n",
    "- Create the vectors/factors for each column (Hint: you can type out each vector/factor, or if you want the process go faster try exploring the rep() function).\n",
    "- Put them together into a dataframe called meta.\n",
    "- Use the rownames() function to assign row names to the dataframe (Hint: you can type out the row names as a vector, or if you want the process go faster try exploring the paste() function).\n",
    "\n",
    "Your finished metadata table should have information for the variables sex, stage, treatment, and myc levels:"
   ]
  },
  {
   "cell_type": "markdown",
   "metadata": {},
   "source": [
    "![images](images/exercise1.png)"
   ]
  },
  {
   "cell_type": "code",
   "execution_count": 2,
   "metadata": {},
   "outputs": [
    {
     "name": "stdout",
     "output_type": "stream",
     "text": [
      "         sex stage treatment  myc\n",
      "sample1    M     I         A 2343\n",
      "sample2    F    II         A  457\n",
      "sample3    M    II         A 4593\n",
      "sample4    F     I         A 9035\n",
      "sample5    M    II         B 3450\n",
      "sample6    F    II         B 3524\n",
      "sample7    M     I         B  958\n",
      "sample8    F    II         B 1053\n",
      "sample9    M    II         P 8674\n",
      "sample10   F     I         P 3424\n",
      "sample11   M    II         P  463\n",
      "sample12   F    II         P 5105\n"
     ]
    }
   ],
   "source": [
    "sex <- c(\"M\", \"F\", \"M\", \"F\", \"M\", \"F\", \"M\", \"F\", \"M\", \"F\", \"M\", \"F\")\n",
    "stage <- c(\"I\", \"II\", \"II\", \"I\", \"II\", \"II\", \"I\", \"II\", \"II\", \"I\", \"II\", \"II\")\n",
    "treatment <- c(\"A\", \"A\", \"A\", \"A\", \"B\", \"B\", \"B\", \"B\", \"P\", \"P\", \"P\", \"P\")\n",
    "myc <- c(2343, 457, 4593, 9035, 3450, 3524, 958, 1053, 8674, 3424, 463, 5105)\n",
    "meta <- data.frame(sex, stage, treatment, myc)\n",
    "rownames(meta) <- c(\"sample1\", \"sample2\", \"sample3\", \"sample4\", \"sample5\", \"sample6\", \"sample7\", \"sample8\", \"sample9\", \"sample10\", \"sample11\", \"sample12\")\n",
    "print(meta)"
   ]
  },
  {
   "cell_type": "markdown",
   "metadata": {},
   "source": [
    "## Exercise 2. "
   ]
  },
  {
   "cell_type": "markdown",
   "metadata": {},
   "source": [
    "### Subsetting vectors/factors and dataframes"
   ]
  },
  {
   "cell_type": "markdown",
   "metadata": {},
   "source": [
    "Using the meta data frame from question #1, write out the R code you would use to perform the following operations (questions DO NOT build upon each other):\n",
    "\n",
    "- return only the treatment and sex columns using []:\n",
    "- return the treatment values for samples 5, 7, 9, and 10 using []:\n",
    "- use filter() to return all data for those samples receiving treatment P:\n",
    "- use filter()/select()to return only the stage and treatment columns for those samples with myc > 5000:\n",
    "- remove the treatment column from the dataset using []:\n",
    "- remove samples 7, 8 and 9 from the dataset using []:\n",
    "- keep only samples 1-6 using []:\n",
    "- add a column called pre_treatment to the beginning of the dataframe with the values T, F, F, F, T, T, F, T, F, F, T, T (Hint: use cbind()):\n",
    "- change the names of the columns to: “A”, “B”, “C”, “D”:\n"
   ]
  },
  {
   "cell_type": "code",
   "execution_count": 3,
   "metadata": {},
   "outputs": [
    {
     "name": "stdout",
     "output_type": "stream",
     "text": [
      "[1] \"return only the treatment and sex columns using []:\"\n"
     ]
    },
    {
     "data": {
      "text/html": [
       "<table>\n",
       "<thead><tr><th></th><th scope=col>sex</th><th scope=col>treatment</th></tr></thead>\n",
       "<tbody>\n",
       "\t<tr><th scope=row>sample1</th><td>M</td><td>A</td></tr>\n",
       "\t<tr><th scope=row>sample2</th><td>F</td><td>A</td></tr>\n",
       "\t<tr><th scope=row>sample3</th><td>M</td><td>A</td></tr>\n",
       "\t<tr><th scope=row>sample4</th><td>F</td><td>A</td></tr>\n",
       "\t<tr><th scope=row>sample5</th><td>M</td><td>B</td></tr>\n",
       "\t<tr><th scope=row>sample6</th><td>F</td><td>B</td></tr>\n",
       "\t<tr><th scope=row>sample7</th><td>M</td><td>B</td></tr>\n",
       "\t<tr><th scope=row>sample8</th><td>F</td><td>B</td></tr>\n",
       "\t<tr><th scope=row>sample9</th><td>M</td><td>P</td></tr>\n",
       "\t<tr><th scope=row>sample10</th><td>F</td><td>P</td></tr>\n",
       "\t<tr><th scope=row>sample11</th><td>M</td><td>P</td></tr>\n",
       "\t<tr><th scope=row>sample12</th><td>F</td><td>P</td></tr>\n",
       "</tbody>\n",
       "</table>\n"
      ],
      "text/latex": [
       "\\begin{tabular}{r|ll}\n",
       "  & sex & treatment\\\\\n",
       "\\hline\n",
       "\tsample1 & M & A\\\\\n",
       "\tsample2 & F & A\\\\\n",
       "\tsample3 & M & A\\\\\n",
       "\tsample4 & F & A\\\\\n",
       "\tsample5 & M & B\\\\\n",
       "\tsample6 & F & B\\\\\n",
       "\tsample7 & M & B\\\\\n",
       "\tsample8 & F & B\\\\\n",
       "\tsample9 & M & P\\\\\n",
       "\tsample10 & F & P\\\\\n",
       "\tsample11 & M & P\\\\\n",
       "\tsample12 & F & P\\\\\n",
       "\\end{tabular}\n"
      ],
      "text/markdown": [
       "\n",
       "| <!--/--> | sex | treatment |\n",
       "|---|---|---|\n",
       "| sample1 | M | A |\n",
       "| sample2 | F | A |\n",
       "| sample3 | M | A |\n",
       "| sample4 | F | A |\n",
       "| sample5 | M | B |\n",
       "| sample6 | F | B |\n",
       "| sample7 | M | B |\n",
       "| sample8 | F | B |\n",
       "| sample9 | M | P |\n",
       "| sample10 | F | P |\n",
       "| sample11 | M | P |\n",
       "| sample12 | F | P |\n",
       "\n"
      ],
      "text/plain": [
       "         sex treatment\n",
       "sample1  M   A        \n",
       "sample2  F   A        \n",
       "sample3  M   A        \n",
       "sample4  F   A        \n",
       "sample5  M   B        \n",
       "sample6  F   B        \n",
       "sample7  M   B        \n",
       "sample8  F   B        \n",
       "sample9  M   P        \n",
       "sample10 F   P        \n",
       "sample11 M   P        \n",
       "sample12 F   P        "
      ]
     },
     "metadata": {},
     "output_type": "display_data"
    },
    {
     "name": "stdout",
     "output_type": "stream",
     "text": [
      "[1] \"return the treatment values for samples 5, 7, 9, and 10 using []:\"\n"
     ]
    },
    {
     "data": {
      "text/html": [
       "<table>\n",
       "<thead><tr><th></th><th scope=col>treatment</th></tr></thead>\n",
       "<tbody>\n",
       "\t<tr><th scope=row>sample5</th><td>B</td></tr>\n",
       "\t<tr><th scope=row>sample7</th><td>B</td></tr>\n",
       "\t<tr><th scope=row>sample9</th><td>P</td></tr>\n",
       "\t<tr><th scope=row>sample10</th><td>P</td></tr>\n",
       "</tbody>\n",
       "</table>\n"
      ],
      "text/latex": [
       "\\begin{tabular}{r|l}\n",
       "  & treatment\\\\\n",
       "\\hline\n",
       "\tsample5 & B\\\\\n",
       "\tsample7 & B\\\\\n",
       "\tsample9 & P\\\\\n",
       "\tsample10 & P\\\\\n",
       "\\end{tabular}\n"
      ],
      "text/markdown": [
       "\n",
       "| <!--/--> | treatment |\n",
       "|---|---|\n",
       "| sample5 | B |\n",
       "| sample7 | B |\n",
       "| sample9 | P |\n",
       "| sample10 | P |\n",
       "\n"
      ],
      "text/plain": [
       "         treatment\n",
       "sample5  B        \n",
       "sample7  B        \n",
       "sample9  P        \n",
       "sample10 P        "
      ]
     },
     "metadata": {},
     "output_type": "display_data"
    },
    {
     "name": "stdout",
     "output_type": "stream",
     "text": [
      "[1] \"use filter() to return all data for those samples receiving treatment P:\"\n",
      "[1] \"NOTE: I find it really annoying and anti intuitive that dplyr removes row names (https://github.com/tidyverse/dplyr/issues/366)\"\n"
     ]
    },
    {
     "data": {
      "text/html": [
       "<table>\n",
       "<thead><tr><th scope=col>sex</th><th scope=col>stage</th><th scope=col>treatment</th><th scope=col>myc</th></tr></thead>\n",
       "<tbody>\n",
       "\t<tr><td>M   </td><td>II  </td><td>P   </td><td>8674</td></tr>\n",
       "\t<tr><td>F   </td><td>I   </td><td>P   </td><td>3424</td></tr>\n",
       "\t<tr><td>M   </td><td>II  </td><td>P   </td><td> 463</td></tr>\n",
       "\t<tr><td>F   </td><td>II  </td><td>P   </td><td>5105</td></tr>\n",
       "</tbody>\n",
       "</table>\n"
      ],
      "text/latex": [
       "\\begin{tabular}{r|llll}\n",
       " sex & stage & treatment & myc\\\\\n",
       "\\hline\n",
       "\t M    & II   & P    & 8674\\\\\n",
       "\t F    & I    & P    & 3424\\\\\n",
       "\t M    & II   & P    &  463\\\\\n",
       "\t F    & II   & P    & 5105\\\\\n",
       "\\end{tabular}\n"
      ],
      "text/markdown": [
       "\n",
       "| sex | stage | treatment | myc |\n",
       "|---|---|---|---|\n",
       "| M    | II   | P    | 8674 |\n",
       "| F    | I    | P    | 3424 |\n",
       "| M    | II   | P    |  463 |\n",
       "| F    | II   | P    | 5105 |\n",
       "\n"
      ],
      "text/plain": [
       "  sex stage treatment myc \n",
       "1 M   II    P         8674\n",
       "2 F   I     P         3424\n",
       "3 M   II    P          463\n",
       "4 F   II    P         5105"
      ]
     },
     "metadata": {},
     "output_type": "display_data"
    },
    {
     "name": "stdout",
     "output_type": "stream",
     "text": [
      "[1] \"use filter()/select()to return only the stage and treatment columns for those samples with myc > 5000:\"\n"
     ]
    },
    {
     "data": {
      "text/html": [
       "<table>\n",
       "<thead><tr><th scope=col>stage</th><th scope=col>treatment</th></tr></thead>\n",
       "<tbody>\n",
       "\t<tr><td>I </td><td>A </td></tr>\n",
       "\t<tr><td>II</td><td>P </td></tr>\n",
       "\t<tr><td>II</td><td>P </td></tr>\n",
       "</tbody>\n",
       "</table>\n"
      ],
      "text/latex": [
       "\\begin{tabular}{r|ll}\n",
       " stage & treatment\\\\\n",
       "\\hline\n",
       "\t I  & A \\\\\n",
       "\t II & P \\\\\n",
       "\t II & P \\\\\n",
       "\\end{tabular}\n"
      ],
      "text/markdown": [
       "\n",
       "| stage | treatment |\n",
       "|---|---|\n",
       "| I  | A  |\n",
       "| II | P  |\n",
       "| II | P  |\n",
       "\n"
      ],
      "text/plain": [
       "  stage treatment\n",
       "1 I     A        \n",
       "2 II    P        \n",
       "3 II    P        "
      ]
     },
     "metadata": {},
     "output_type": "display_data"
    },
    {
     "name": "stdout",
     "output_type": "stream",
     "text": [
      "[1] \"remove the treatment column from the dataset using []:\"\n",
      "         sex stage  myc\n",
      "sample1    M     I 2343\n",
      "sample2    F    II  457\n",
      "sample3    M    II 4593\n",
      "sample4    F     I 9035\n",
      "sample5    M    II 3450\n",
      "sample6    F    II 3524\n",
      "sample7    M     I  958\n",
      "sample8    F    II 1053\n",
      "sample9    M    II 8674\n",
      "sample10   F     I 3424\n",
      "sample11   M    II  463\n",
      "sample12   F    II 5105\n",
      "[1] \"remove samples 7, 8 and 9 from the dataset using []:\"\n",
      "         sex stage treatment  myc\n",
      "sample1    M     I         A 2343\n",
      "sample2    F    II         A  457\n",
      "sample3    M    II         A 4593\n",
      "sample4    F     I         A 9035\n",
      "sample5    M    II         B 3450\n",
      "sample6    F    II         B 3524\n",
      "sample10   F     I         P 3424\n",
      "sample11   M    II         P  463\n",
      "sample12   F    II         P 5105\n",
      "[1] \"keep only samples 1-6 using []:\"\n",
      "        sex stage treatment  myc\n",
      "sample1   M     I         A 2343\n",
      "sample2   F    II         A  457\n",
      "sample3   M    II         A 4593\n",
      "sample4   F     I         A 9035\n",
      "sample5   M    II         B 3450\n",
      "sample6   F    II         B 3524\n",
      "[1] \"add a column called pre_treatment to the beginning of the dataframe with the values T, F, F, F, T, T, F, T, F, F, T, T (Hint: use cbind()):\"\n",
      "         pre_treatment sex stage treatment  myc\n",
      "sample1           TRUE   M     I         A 2343\n",
      "sample2          FALSE   F    II         A  457\n",
      "sample3          FALSE   M    II         A 4593\n",
      "sample4          FALSE   F     I         A 9035\n",
      "sample5           TRUE   M    II         B 3450\n",
      "sample6           TRUE   F    II         B 3524\n",
      "sample7          FALSE   M     I         B  958\n",
      "sample8           TRUE   F    II         B 1053\n",
      "sample9          FALSE   M    II         P 8674\n",
      "sample10         FALSE   F     I         P 3424\n",
      "sample11          TRUE   M    II         P  463\n",
      "sample12          TRUE   F    II         P 5105\n",
      "[1] \"change the names of the columns to: “A”, “B”, “C”, “D”:\"\n",
      "         A  B C    D\n",
      "sample1  M  I A 2343\n",
      "sample2  F II A  457\n",
      "sample3  M II A 4593\n",
      "sample4  F  I A 9035\n",
      "sample5  M II B 3450\n",
      "sample6  F II B 3524\n",
      "sample7  M  I B  958\n",
      "sample8  F II B 1053\n",
      "sample9  M II P 8674\n",
      "sample10 F  I P 3424\n",
      "sample11 M II P  463\n",
      "sample12 F II P 5105\n"
     ]
    }
   ],
   "source": [
    "# These are imports needed to use %>%\n",
    "library(magrittr)\n",
    "library(dplyr)\n",
    "# Run the various required slices and changes to the df\n",
    "print(\"return only the treatment and sex columns using []:\")\n",
    "meta[ , c(1,3), drop=FALSE]\n",
    "print(\"return the treatment values for samples 5, 7, 9, and 10 using []:\")\n",
    "meta[c(5,7,9,10), 3, drop=FALSE]\n",
    "print(\"use filter() to return all data for those samples receiving treatment P:\")\n",
    "print(\"NOTE: I find it really annoying and anti intuitive that dplyr removes row names (https://github.com/tidyverse/dplyr/issues/366)\")\n",
    "filter(meta, treatment == \"P\")\n",
    "print(\"use filter()/select()to return only the stage and treatment columns for those samples with myc > 5000:\")\n",
    "filter(meta, myc > 5000) %>% select(stage, treatment)\n",
    "print(\"remove the treatment column from the dataset using []:\")\n",
    "print(meta[, -3])\n",
    "print(\"remove samples 7, 8 and 9 from the dataset using []:\")\n",
    "print(meta[-7:-9, ])\n",
    "print(\"keep only samples 1-6 using []:\")\n",
    "print(meta[1:6, ])\n",
    "print(\"add a column called pre_treatment to the beginning of the dataframe with the values T, F, F, F, T, T, F, T, F, F, T, T (Hint: use cbind()):\")\n",
    "pre_treatment <- c(T, F, F, F, T, T, F, T, F, F, T, T)\n",
    "newMeta = cbind(pre_treatment, meta)\n",
    "print(newMeta)\n",
    "print(\"change the names of the columns to: “A”, “B”, “C”, “D”:\")\n",
    "colnames(meta) <- c(\"A\", \"B\", \"C\", \"D\")\n",
    "print(meta)"
   ]
  },
  {
   "cell_type": "markdown",
   "metadata": {},
   "source": [
    "### [John Hopkins University: Free R Course](https://www.coursera.org/learn/r-programming?specialization=data-science-foundations-r)"
   ]
  },
  {
   "cell_type": "code",
   "execution_count": null,
   "metadata": {},
   "outputs": [],
   "source": []
  }
 ],
 "metadata": {
  "kernelspec": {
   "display_name": "R",
   "language": "R",
   "name": "ir"
  },
  "language_info": {
   "codemirror_mode": "r",
   "file_extension": ".r",
   "mimetype": "text/x-r-source",
   "name": "R",
   "pygments_lexer": "r",
   "version": "3.6.1"
  }
 },
 "nbformat": 4,
 "nbformat_minor": 4
}
