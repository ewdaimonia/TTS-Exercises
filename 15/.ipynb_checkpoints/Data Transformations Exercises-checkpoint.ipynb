{
 "cells": [
  {
   "cell_type": "markdown",
   "metadata": {},
   "source": [
    "# Data Transformation with R"
   ]
  },
  {
   "cell_type": "markdown",
   "metadata": {},
   "source": [
    "## Exercises"
   ]
  },
  {
   "cell_type": "markdown",
   "metadata": {},
   "source": [
    "### Exercise 1. \n",
    "\n",
    "List all example files available with the '''readr''' library.\n"
   ]
  },
  {
   "cell_type": "code",
   "execution_count": 2,
   "metadata": {},
   "outputs": [],
   "source": [
    "library(tidyverse)\n",
    "library(readxl)\n",
    "library(AER)\n",
    "library(dplyr)"
   ]
  },
  {
   "cell_type": "code",
   "execution_count": 3,
   "metadata": {},
   "outputs": [
    {
     "data": {
      "text/html": [
       "<style>\n",
       ".list-inline {list-style: none; margin:0; padding: 0}\n",
       ".list-inline>li {display: inline-block}\n",
       ".list-inline>li:not(:last-child)::after {content: \"\\00b7\"; padding: 0 .5ex}\n",
       "</style>\n",
       "<ol class=list-inline><li>'challenge.csv'</li><li>'epa78.txt'</li><li>'example.log'</li><li>'fwf-sample.txt'</li><li>'massey-rating.txt'</li><li>'mtcars.csv'</li><li>'mtcars.csv.bz2'</li><li>'mtcars.csv.zip'</li></ol>\n"
      ],
      "text/latex": [
       "\\begin{enumerate*}\n",
       "\\item 'challenge.csv'\n",
       "\\item 'epa78.txt'\n",
       "\\item 'example.log'\n",
       "\\item 'fwf-sample.txt'\n",
       "\\item 'massey-rating.txt'\n",
       "\\item 'mtcars.csv'\n",
       "\\item 'mtcars.csv.bz2'\n",
       "\\item 'mtcars.csv.zip'\n",
       "\\end{enumerate*}\n"
      ],
      "text/markdown": [
       "1. 'challenge.csv'\n",
       "2. 'epa78.txt'\n",
       "3. 'example.log'\n",
       "4. 'fwf-sample.txt'\n",
       "5. 'massey-rating.txt'\n",
       "6. 'mtcars.csv'\n",
       "7. 'mtcars.csv.bz2'\n",
       "8. 'mtcars.csv.zip'\n",
       "\n",
       "\n"
      ],
      "text/plain": [
       "[1] \"challenge.csv\"     \"epa78.txt\"         \"example.log\"      \n",
       "[4] \"fwf-sample.txt\"    \"massey-rating.txt\" \"mtcars.csv\"       \n",
       "[7] \"mtcars.csv.bz2\"    \"mtcars.csv.zip\"   "
      ]
     },
     "metadata": {},
     "output_type": "display_data"
    }
   ],
   "source": [
    "# exercise 1\n",
    "list.files(readr_example(\"\"))"
   ]
  },
  {
   "cell_type": "markdown",
   "metadata": {},
   "source": [
    "### Exercise 2.\n",
    "\n",
    "Read the mtcars.csv file."
   ]
  },
  {
   "cell_type": "code",
   "execution_count": 4,
   "metadata": {},
   "outputs": [
    {
     "name": "stderr",
     "output_type": "stream",
     "text": [
      "Parsed with column specification:\n",
      "cols(\n",
      "  mpg = \u001b[32mcol_double()\u001b[39m,\n",
      "  cyl = \u001b[32mcol_double()\u001b[39m,\n",
      "  disp = \u001b[32mcol_double()\u001b[39m,\n",
      "  hp = \u001b[32mcol_double()\u001b[39m,\n",
      "  drat = \u001b[32mcol_double()\u001b[39m,\n",
      "  wt = \u001b[32mcol_double()\u001b[39m,\n",
      "  qsec = \u001b[32mcol_double()\u001b[39m,\n",
      "  vs = \u001b[32mcol_double()\u001b[39m,\n",
      "  am = \u001b[32mcol_double()\u001b[39m,\n",
      "  gear = \u001b[32mcol_double()\u001b[39m,\n",
      "  carb = \u001b[32mcol_double()\u001b[39m\n",
      ")\n",
      "\n"
     ]
    },
    {
     "data": {
      "text/html": [
       "<table>\n",
       "<caption>A spec_tbl_df: 32 × 11</caption>\n",
       "<thead>\n",
       "\t<tr><th scope=col>mpg</th><th scope=col>cyl</th><th scope=col>disp</th><th scope=col>hp</th><th scope=col>drat</th><th scope=col>wt</th><th scope=col>qsec</th><th scope=col>vs</th><th scope=col>am</th><th scope=col>gear</th><th scope=col>carb</th></tr>\n",
       "\t<tr><th scope=col>&lt;dbl&gt;</th><th scope=col>&lt;dbl&gt;</th><th scope=col>&lt;dbl&gt;</th><th scope=col>&lt;dbl&gt;</th><th scope=col>&lt;dbl&gt;</th><th scope=col>&lt;dbl&gt;</th><th scope=col>&lt;dbl&gt;</th><th scope=col>&lt;dbl&gt;</th><th scope=col>&lt;dbl&gt;</th><th scope=col>&lt;dbl&gt;</th><th scope=col>&lt;dbl&gt;</th></tr>\n",
       "</thead>\n",
       "<tbody>\n",
       "\t<tr><td>21.0</td><td>6</td><td>160.0</td><td>110</td><td>3.90</td><td>2.620</td><td>16.46</td><td>0</td><td>1</td><td>4</td><td>4</td></tr>\n",
       "\t<tr><td>21.0</td><td>6</td><td>160.0</td><td>110</td><td>3.90</td><td>2.875</td><td>17.02</td><td>0</td><td>1</td><td>4</td><td>4</td></tr>\n",
       "\t<tr><td>22.8</td><td>4</td><td>108.0</td><td> 93</td><td>3.85</td><td>2.320</td><td>18.61</td><td>1</td><td>1</td><td>4</td><td>1</td></tr>\n",
       "\t<tr><td>21.4</td><td>6</td><td>258.0</td><td>110</td><td>3.08</td><td>3.215</td><td>19.44</td><td>1</td><td>0</td><td>3</td><td>1</td></tr>\n",
       "\t<tr><td>18.7</td><td>8</td><td>360.0</td><td>175</td><td>3.15</td><td>3.440</td><td>17.02</td><td>0</td><td>0</td><td>3</td><td>2</td></tr>\n",
       "\t<tr><td>18.1</td><td>6</td><td>225.0</td><td>105</td><td>2.76</td><td>3.460</td><td>20.22</td><td>1</td><td>0</td><td>3</td><td>1</td></tr>\n",
       "\t<tr><td>14.3</td><td>8</td><td>360.0</td><td>245</td><td>3.21</td><td>3.570</td><td>15.84</td><td>0</td><td>0</td><td>3</td><td>4</td></tr>\n",
       "\t<tr><td>24.4</td><td>4</td><td>146.7</td><td> 62</td><td>3.69</td><td>3.190</td><td>20.00</td><td>1</td><td>0</td><td>4</td><td>2</td></tr>\n",
       "\t<tr><td>22.8</td><td>4</td><td>140.8</td><td> 95</td><td>3.92</td><td>3.150</td><td>22.90</td><td>1</td><td>0</td><td>4</td><td>2</td></tr>\n",
       "\t<tr><td>19.2</td><td>6</td><td>167.6</td><td>123</td><td>3.92</td><td>3.440</td><td>18.30</td><td>1</td><td>0</td><td>4</td><td>4</td></tr>\n",
       "\t<tr><td>17.8</td><td>6</td><td>167.6</td><td>123</td><td>3.92</td><td>3.440</td><td>18.90</td><td>1</td><td>0</td><td>4</td><td>4</td></tr>\n",
       "\t<tr><td>16.4</td><td>8</td><td>275.8</td><td>180</td><td>3.07</td><td>4.070</td><td>17.40</td><td>0</td><td>0</td><td>3</td><td>3</td></tr>\n",
       "\t<tr><td>17.3</td><td>8</td><td>275.8</td><td>180</td><td>3.07</td><td>3.730</td><td>17.60</td><td>0</td><td>0</td><td>3</td><td>3</td></tr>\n",
       "\t<tr><td>15.2</td><td>8</td><td>275.8</td><td>180</td><td>3.07</td><td>3.780</td><td>18.00</td><td>0</td><td>0</td><td>3</td><td>3</td></tr>\n",
       "\t<tr><td>10.4</td><td>8</td><td>472.0</td><td>205</td><td>2.93</td><td>5.250</td><td>17.98</td><td>0</td><td>0</td><td>3</td><td>4</td></tr>\n",
       "\t<tr><td>10.4</td><td>8</td><td>460.0</td><td>215</td><td>3.00</td><td>5.424</td><td>17.82</td><td>0</td><td>0</td><td>3</td><td>4</td></tr>\n",
       "\t<tr><td>14.7</td><td>8</td><td>440.0</td><td>230</td><td>3.23</td><td>5.345</td><td>17.42</td><td>0</td><td>0</td><td>3</td><td>4</td></tr>\n",
       "\t<tr><td>32.4</td><td>4</td><td> 78.7</td><td> 66</td><td>4.08</td><td>2.200</td><td>19.47</td><td>1</td><td>1</td><td>4</td><td>1</td></tr>\n",
       "\t<tr><td>30.4</td><td>4</td><td> 75.7</td><td> 52</td><td>4.93</td><td>1.615</td><td>18.52</td><td>1</td><td>1</td><td>4</td><td>2</td></tr>\n",
       "\t<tr><td>33.9</td><td>4</td><td> 71.1</td><td> 65</td><td>4.22</td><td>1.835</td><td>19.90</td><td>1</td><td>1</td><td>4</td><td>1</td></tr>\n",
       "\t<tr><td>21.5</td><td>4</td><td>120.1</td><td> 97</td><td>3.70</td><td>2.465</td><td>20.01</td><td>1</td><td>0</td><td>3</td><td>1</td></tr>\n",
       "\t<tr><td>15.5</td><td>8</td><td>318.0</td><td>150</td><td>2.76</td><td>3.520</td><td>16.87</td><td>0</td><td>0</td><td>3</td><td>2</td></tr>\n",
       "\t<tr><td>15.2</td><td>8</td><td>304.0</td><td>150</td><td>3.15</td><td>3.435</td><td>17.30</td><td>0</td><td>0</td><td>3</td><td>2</td></tr>\n",
       "\t<tr><td>13.3</td><td>8</td><td>350.0</td><td>245</td><td>3.73</td><td>3.840</td><td>15.41</td><td>0</td><td>0</td><td>3</td><td>4</td></tr>\n",
       "\t<tr><td>19.2</td><td>8</td><td>400.0</td><td>175</td><td>3.08</td><td>3.845</td><td>17.05</td><td>0</td><td>0</td><td>3</td><td>2</td></tr>\n",
       "\t<tr><td>27.3</td><td>4</td><td> 79.0</td><td> 66</td><td>4.08</td><td>1.935</td><td>18.90</td><td>1</td><td>1</td><td>4</td><td>1</td></tr>\n",
       "\t<tr><td>26.0</td><td>4</td><td>120.3</td><td> 91</td><td>4.43</td><td>2.140</td><td>16.70</td><td>0</td><td>1</td><td>5</td><td>2</td></tr>\n",
       "\t<tr><td>30.4</td><td>4</td><td> 95.1</td><td>113</td><td>3.77</td><td>1.513</td><td>16.90</td><td>1</td><td>1</td><td>5</td><td>2</td></tr>\n",
       "\t<tr><td>15.8</td><td>8</td><td>351.0</td><td>264</td><td>4.22</td><td>3.170</td><td>14.50</td><td>0</td><td>1</td><td>5</td><td>4</td></tr>\n",
       "\t<tr><td>19.7</td><td>6</td><td>145.0</td><td>175</td><td>3.62</td><td>2.770</td><td>15.50</td><td>0</td><td>1</td><td>5</td><td>6</td></tr>\n",
       "\t<tr><td>15.0</td><td>8</td><td>301.0</td><td>335</td><td>3.54</td><td>3.570</td><td>14.60</td><td>0</td><td>1</td><td>5</td><td>8</td></tr>\n",
       "\t<tr><td>21.4</td><td>4</td><td>121.0</td><td>109</td><td>4.11</td><td>2.780</td><td>18.60</td><td>1</td><td>1</td><td>4</td><td>2</td></tr>\n",
       "</tbody>\n",
       "</table>\n"
      ],
      "text/latex": [
       "A spec\\_tbl\\_df: 32 × 11\n",
       "\\begin{tabular}{lllllllllll}\n",
       " mpg & cyl & disp & hp & drat & wt & qsec & vs & am & gear & carb\\\\\n",
       " <dbl> & <dbl> & <dbl> & <dbl> & <dbl> & <dbl> & <dbl> & <dbl> & <dbl> & <dbl> & <dbl>\\\\\n",
       "\\hline\n",
       "\t 21.0 & 6 & 160.0 & 110 & 3.90 & 2.620 & 16.46 & 0 & 1 & 4 & 4\\\\\n",
       "\t 21.0 & 6 & 160.0 & 110 & 3.90 & 2.875 & 17.02 & 0 & 1 & 4 & 4\\\\\n",
       "\t 22.8 & 4 & 108.0 &  93 & 3.85 & 2.320 & 18.61 & 1 & 1 & 4 & 1\\\\\n",
       "\t 21.4 & 6 & 258.0 & 110 & 3.08 & 3.215 & 19.44 & 1 & 0 & 3 & 1\\\\\n",
       "\t 18.7 & 8 & 360.0 & 175 & 3.15 & 3.440 & 17.02 & 0 & 0 & 3 & 2\\\\\n",
       "\t 18.1 & 6 & 225.0 & 105 & 2.76 & 3.460 & 20.22 & 1 & 0 & 3 & 1\\\\\n",
       "\t 14.3 & 8 & 360.0 & 245 & 3.21 & 3.570 & 15.84 & 0 & 0 & 3 & 4\\\\\n",
       "\t 24.4 & 4 & 146.7 &  62 & 3.69 & 3.190 & 20.00 & 1 & 0 & 4 & 2\\\\\n",
       "\t 22.8 & 4 & 140.8 &  95 & 3.92 & 3.150 & 22.90 & 1 & 0 & 4 & 2\\\\\n",
       "\t 19.2 & 6 & 167.6 & 123 & 3.92 & 3.440 & 18.30 & 1 & 0 & 4 & 4\\\\\n",
       "\t 17.8 & 6 & 167.6 & 123 & 3.92 & 3.440 & 18.90 & 1 & 0 & 4 & 4\\\\\n",
       "\t 16.4 & 8 & 275.8 & 180 & 3.07 & 4.070 & 17.40 & 0 & 0 & 3 & 3\\\\\n",
       "\t 17.3 & 8 & 275.8 & 180 & 3.07 & 3.730 & 17.60 & 0 & 0 & 3 & 3\\\\\n",
       "\t 15.2 & 8 & 275.8 & 180 & 3.07 & 3.780 & 18.00 & 0 & 0 & 3 & 3\\\\\n",
       "\t 10.4 & 8 & 472.0 & 205 & 2.93 & 5.250 & 17.98 & 0 & 0 & 3 & 4\\\\\n",
       "\t 10.4 & 8 & 460.0 & 215 & 3.00 & 5.424 & 17.82 & 0 & 0 & 3 & 4\\\\\n",
       "\t 14.7 & 8 & 440.0 & 230 & 3.23 & 5.345 & 17.42 & 0 & 0 & 3 & 4\\\\\n",
       "\t 32.4 & 4 &  78.7 &  66 & 4.08 & 2.200 & 19.47 & 1 & 1 & 4 & 1\\\\\n",
       "\t 30.4 & 4 &  75.7 &  52 & 4.93 & 1.615 & 18.52 & 1 & 1 & 4 & 2\\\\\n",
       "\t 33.9 & 4 &  71.1 &  65 & 4.22 & 1.835 & 19.90 & 1 & 1 & 4 & 1\\\\\n",
       "\t 21.5 & 4 & 120.1 &  97 & 3.70 & 2.465 & 20.01 & 1 & 0 & 3 & 1\\\\\n",
       "\t 15.5 & 8 & 318.0 & 150 & 2.76 & 3.520 & 16.87 & 0 & 0 & 3 & 2\\\\\n",
       "\t 15.2 & 8 & 304.0 & 150 & 3.15 & 3.435 & 17.30 & 0 & 0 & 3 & 2\\\\\n",
       "\t 13.3 & 8 & 350.0 & 245 & 3.73 & 3.840 & 15.41 & 0 & 0 & 3 & 4\\\\\n",
       "\t 19.2 & 8 & 400.0 & 175 & 3.08 & 3.845 & 17.05 & 0 & 0 & 3 & 2\\\\\n",
       "\t 27.3 & 4 &  79.0 &  66 & 4.08 & 1.935 & 18.90 & 1 & 1 & 4 & 1\\\\\n",
       "\t 26.0 & 4 & 120.3 &  91 & 4.43 & 2.140 & 16.70 & 0 & 1 & 5 & 2\\\\\n",
       "\t 30.4 & 4 &  95.1 & 113 & 3.77 & 1.513 & 16.90 & 1 & 1 & 5 & 2\\\\\n",
       "\t 15.8 & 8 & 351.0 & 264 & 4.22 & 3.170 & 14.50 & 0 & 1 & 5 & 4\\\\\n",
       "\t 19.7 & 6 & 145.0 & 175 & 3.62 & 2.770 & 15.50 & 0 & 1 & 5 & 6\\\\\n",
       "\t 15.0 & 8 & 301.0 & 335 & 3.54 & 3.570 & 14.60 & 0 & 1 & 5 & 8\\\\\n",
       "\t 21.4 & 4 & 121.0 & 109 & 4.11 & 2.780 & 18.60 & 1 & 1 & 4 & 2\\\\\n",
       "\\end{tabular}\n"
      ],
      "text/markdown": [
       "\n",
       "A spec_tbl_df: 32 × 11\n",
       "\n",
       "| mpg &lt;dbl&gt; | cyl &lt;dbl&gt; | disp &lt;dbl&gt; | hp &lt;dbl&gt; | drat &lt;dbl&gt; | wt &lt;dbl&gt; | qsec &lt;dbl&gt; | vs &lt;dbl&gt; | am &lt;dbl&gt; | gear &lt;dbl&gt; | carb &lt;dbl&gt; |\n",
       "|---|---|---|---|---|---|---|---|---|---|---|\n",
       "| 21.0 | 6 | 160.0 | 110 | 3.90 | 2.620 | 16.46 | 0 | 1 | 4 | 4 |\n",
       "| 21.0 | 6 | 160.0 | 110 | 3.90 | 2.875 | 17.02 | 0 | 1 | 4 | 4 |\n",
       "| 22.8 | 4 | 108.0 |  93 | 3.85 | 2.320 | 18.61 | 1 | 1 | 4 | 1 |\n",
       "| 21.4 | 6 | 258.0 | 110 | 3.08 | 3.215 | 19.44 | 1 | 0 | 3 | 1 |\n",
       "| 18.7 | 8 | 360.0 | 175 | 3.15 | 3.440 | 17.02 | 0 | 0 | 3 | 2 |\n",
       "| 18.1 | 6 | 225.0 | 105 | 2.76 | 3.460 | 20.22 | 1 | 0 | 3 | 1 |\n",
       "| 14.3 | 8 | 360.0 | 245 | 3.21 | 3.570 | 15.84 | 0 | 0 | 3 | 4 |\n",
       "| 24.4 | 4 | 146.7 |  62 | 3.69 | 3.190 | 20.00 | 1 | 0 | 4 | 2 |\n",
       "| 22.8 | 4 | 140.8 |  95 | 3.92 | 3.150 | 22.90 | 1 | 0 | 4 | 2 |\n",
       "| 19.2 | 6 | 167.6 | 123 | 3.92 | 3.440 | 18.30 | 1 | 0 | 4 | 4 |\n",
       "| 17.8 | 6 | 167.6 | 123 | 3.92 | 3.440 | 18.90 | 1 | 0 | 4 | 4 |\n",
       "| 16.4 | 8 | 275.8 | 180 | 3.07 | 4.070 | 17.40 | 0 | 0 | 3 | 3 |\n",
       "| 17.3 | 8 | 275.8 | 180 | 3.07 | 3.730 | 17.60 | 0 | 0 | 3 | 3 |\n",
       "| 15.2 | 8 | 275.8 | 180 | 3.07 | 3.780 | 18.00 | 0 | 0 | 3 | 3 |\n",
       "| 10.4 | 8 | 472.0 | 205 | 2.93 | 5.250 | 17.98 | 0 | 0 | 3 | 4 |\n",
       "| 10.4 | 8 | 460.0 | 215 | 3.00 | 5.424 | 17.82 | 0 | 0 | 3 | 4 |\n",
       "| 14.7 | 8 | 440.0 | 230 | 3.23 | 5.345 | 17.42 | 0 | 0 | 3 | 4 |\n",
       "| 32.4 | 4 |  78.7 |  66 | 4.08 | 2.200 | 19.47 | 1 | 1 | 4 | 1 |\n",
       "| 30.4 | 4 |  75.7 |  52 | 4.93 | 1.615 | 18.52 | 1 | 1 | 4 | 2 |\n",
       "| 33.9 | 4 |  71.1 |  65 | 4.22 | 1.835 | 19.90 | 1 | 1 | 4 | 1 |\n",
       "| 21.5 | 4 | 120.1 |  97 | 3.70 | 2.465 | 20.01 | 1 | 0 | 3 | 1 |\n",
       "| 15.5 | 8 | 318.0 | 150 | 2.76 | 3.520 | 16.87 | 0 | 0 | 3 | 2 |\n",
       "| 15.2 | 8 | 304.0 | 150 | 3.15 | 3.435 | 17.30 | 0 | 0 | 3 | 2 |\n",
       "| 13.3 | 8 | 350.0 | 245 | 3.73 | 3.840 | 15.41 | 0 | 0 | 3 | 4 |\n",
       "| 19.2 | 8 | 400.0 | 175 | 3.08 | 3.845 | 17.05 | 0 | 0 | 3 | 2 |\n",
       "| 27.3 | 4 |  79.0 |  66 | 4.08 | 1.935 | 18.90 | 1 | 1 | 4 | 1 |\n",
       "| 26.0 | 4 | 120.3 |  91 | 4.43 | 2.140 | 16.70 | 0 | 1 | 5 | 2 |\n",
       "| 30.4 | 4 |  95.1 | 113 | 3.77 | 1.513 | 16.90 | 1 | 1 | 5 | 2 |\n",
       "| 15.8 | 8 | 351.0 | 264 | 4.22 | 3.170 | 14.50 | 0 | 1 | 5 | 4 |\n",
       "| 19.7 | 6 | 145.0 | 175 | 3.62 | 2.770 | 15.50 | 0 | 1 | 5 | 6 |\n",
       "| 15.0 | 8 | 301.0 | 335 | 3.54 | 3.570 | 14.60 | 0 | 1 | 5 | 8 |\n",
       "| 21.4 | 4 | 121.0 | 109 | 4.11 | 2.780 | 18.60 | 1 | 1 | 4 | 2 |\n",
       "\n"
      ],
      "text/plain": [
       "   mpg  cyl disp  hp  drat wt    qsec  vs am gear carb\n",
       "1  21.0 6   160.0 110 3.90 2.620 16.46 0  1  4    4   \n",
       "2  21.0 6   160.0 110 3.90 2.875 17.02 0  1  4    4   \n",
       "3  22.8 4   108.0  93 3.85 2.320 18.61 1  1  4    1   \n",
       "4  21.4 6   258.0 110 3.08 3.215 19.44 1  0  3    1   \n",
       "5  18.7 8   360.0 175 3.15 3.440 17.02 0  0  3    2   \n",
       "6  18.1 6   225.0 105 2.76 3.460 20.22 1  0  3    1   \n",
       "7  14.3 8   360.0 245 3.21 3.570 15.84 0  0  3    4   \n",
       "8  24.4 4   146.7  62 3.69 3.190 20.00 1  0  4    2   \n",
       "9  22.8 4   140.8  95 3.92 3.150 22.90 1  0  4    2   \n",
       "10 19.2 6   167.6 123 3.92 3.440 18.30 1  0  4    4   \n",
       "11 17.8 6   167.6 123 3.92 3.440 18.90 1  0  4    4   \n",
       "12 16.4 8   275.8 180 3.07 4.070 17.40 0  0  3    3   \n",
       "13 17.3 8   275.8 180 3.07 3.730 17.60 0  0  3    3   \n",
       "14 15.2 8   275.8 180 3.07 3.780 18.00 0  0  3    3   \n",
       "15 10.4 8   472.0 205 2.93 5.250 17.98 0  0  3    4   \n",
       "16 10.4 8   460.0 215 3.00 5.424 17.82 0  0  3    4   \n",
       "17 14.7 8   440.0 230 3.23 5.345 17.42 0  0  3    4   \n",
       "18 32.4 4    78.7  66 4.08 2.200 19.47 1  1  4    1   \n",
       "19 30.4 4    75.7  52 4.93 1.615 18.52 1  1  4    2   \n",
       "20 33.9 4    71.1  65 4.22 1.835 19.90 1  1  4    1   \n",
       "21 21.5 4   120.1  97 3.70 2.465 20.01 1  0  3    1   \n",
       "22 15.5 8   318.0 150 2.76 3.520 16.87 0  0  3    2   \n",
       "23 15.2 8   304.0 150 3.15 3.435 17.30 0  0  3    2   \n",
       "24 13.3 8   350.0 245 3.73 3.840 15.41 0  0  3    4   \n",
       "25 19.2 8   400.0 175 3.08 3.845 17.05 0  0  3    2   \n",
       "26 27.3 4    79.0  66 4.08 1.935 18.90 1  1  4    1   \n",
       "27 26.0 4   120.3  91 4.43 2.140 16.70 0  1  5    2   \n",
       "28 30.4 4    95.1 113 3.77 1.513 16.90 1  1  5    2   \n",
       "29 15.8 8   351.0 264 4.22 3.170 14.50 0  1  5    4   \n",
       "30 19.7 6   145.0 175 3.62 2.770 15.50 0  1  5    6   \n",
       "31 15.0 8   301.0 335 3.54 3.570 14.60 0  1  5    8   \n",
       "32 21.4 4   121.0 109 4.11 2.780 18.60 1  1  4    2   "
      ]
     },
     "metadata": {},
     "output_type": "display_data"
    }
   ],
   "source": [
    "# exercise 2\n",
    "data1 = read_csv(readr_example('mtcars.csv'))\n",
    "data1"
   ]
  },
  {
   "cell_type": "markdown",
   "metadata": {},
   "source": [
    "### Exercise 3.\n",
    "\n",
    "Read the first 10 lines from the mtcars.csv file."
   ]
  },
  {
   "cell_type": "code",
   "execution_count": 5,
   "metadata": {},
   "outputs": [
    {
     "data": {
      "text/html": [
       "<table>\n",
       "<caption>A tibble: 10 × 11</caption>\n",
       "<thead>\n",
       "\t<tr><th scope=col>mpg</th><th scope=col>cyl</th><th scope=col>disp</th><th scope=col>hp</th><th scope=col>drat</th><th scope=col>wt</th><th scope=col>qsec</th><th scope=col>vs</th><th scope=col>am</th><th scope=col>gear</th><th scope=col>carb</th></tr>\n",
       "\t<tr><th scope=col>&lt;dbl&gt;</th><th scope=col>&lt;dbl&gt;</th><th scope=col>&lt;dbl&gt;</th><th scope=col>&lt;dbl&gt;</th><th scope=col>&lt;dbl&gt;</th><th scope=col>&lt;dbl&gt;</th><th scope=col>&lt;dbl&gt;</th><th scope=col>&lt;dbl&gt;</th><th scope=col>&lt;dbl&gt;</th><th scope=col>&lt;dbl&gt;</th><th scope=col>&lt;dbl&gt;</th></tr>\n",
       "</thead>\n",
       "<tbody>\n",
       "\t<tr><td>21.0</td><td>6</td><td>160.0</td><td>110</td><td>3.90</td><td>2.620</td><td>16.46</td><td>0</td><td>1</td><td>4</td><td>4</td></tr>\n",
       "\t<tr><td>21.0</td><td>6</td><td>160.0</td><td>110</td><td>3.90</td><td>2.875</td><td>17.02</td><td>0</td><td>1</td><td>4</td><td>4</td></tr>\n",
       "\t<tr><td>22.8</td><td>4</td><td>108.0</td><td> 93</td><td>3.85</td><td>2.320</td><td>18.61</td><td>1</td><td>1</td><td>4</td><td>1</td></tr>\n",
       "\t<tr><td>21.4</td><td>6</td><td>258.0</td><td>110</td><td>3.08</td><td>3.215</td><td>19.44</td><td>1</td><td>0</td><td>3</td><td>1</td></tr>\n",
       "\t<tr><td>18.7</td><td>8</td><td>360.0</td><td>175</td><td>3.15</td><td>3.440</td><td>17.02</td><td>0</td><td>0</td><td>3</td><td>2</td></tr>\n",
       "\t<tr><td>18.1</td><td>6</td><td>225.0</td><td>105</td><td>2.76</td><td>3.460</td><td>20.22</td><td>1</td><td>0</td><td>3</td><td>1</td></tr>\n",
       "\t<tr><td>14.3</td><td>8</td><td>360.0</td><td>245</td><td>3.21</td><td>3.570</td><td>15.84</td><td>0</td><td>0</td><td>3</td><td>4</td></tr>\n",
       "\t<tr><td>24.4</td><td>4</td><td>146.7</td><td> 62</td><td>3.69</td><td>3.190</td><td>20.00</td><td>1</td><td>0</td><td>4</td><td>2</td></tr>\n",
       "\t<tr><td>22.8</td><td>4</td><td>140.8</td><td> 95</td><td>3.92</td><td>3.150</td><td>22.90</td><td>1</td><td>0</td><td>4</td><td>2</td></tr>\n",
       "\t<tr><td>19.2</td><td>6</td><td>167.6</td><td>123</td><td>3.92</td><td>3.440</td><td>18.30</td><td>1</td><td>0</td><td>4</td><td>4</td></tr>\n",
       "</tbody>\n",
       "</table>\n"
      ],
      "text/latex": [
       "A tibble: 10 × 11\n",
       "\\begin{tabular}{lllllllllll}\n",
       " mpg & cyl & disp & hp & drat & wt & qsec & vs & am & gear & carb\\\\\n",
       " <dbl> & <dbl> & <dbl> & <dbl> & <dbl> & <dbl> & <dbl> & <dbl> & <dbl> & <dbl> & <dbl>\\\\\n",
       "\\hline\n",
       "\t 21.0 & 6 & 160.0 & 110 & 3.90 & 2.620 & 16.46 & 0 & 1 & 4 & 4\\\\\n",
       "\t 21.0 & 6 & 160.0 & 110 & 3.90 & 2.875 & 17.02 & 0 & 1 & 4 & 4\\\\\n",
       "\t 22.8 & 4 & 108.0 &  93 & 3.85 & 2.320 & 18.61 & 1 & 1 & 4 & 1\\\\\n",
       "\t 21.4 & 6 & 258.0 & 110 & 3.08 & 3.215 & 19.44 & 1 & 0 & 3 & 1\\\\\n",
       "\t 18.7 & 8 & 360.0 & 175 & 3.15 & 3.440 & 17.02 & 0 & 0 & 3 & 2\\\\\n",
       "\t 18.1 & 6 & 225.0 & 105 & 2.76 & 3.460 & 20.22 & 1 & 0 & 3 & 1\\\\\n",
       "\t 14.3 & 8 & 360.0 & 245 & 3.21 & 3.570 & 15.84 & 0 & 0 & 3 & 4\\\\\n",
       "\t 24.4 & 4 & 146.7 &  62 & 3.69 & 3.190 & 20.00 & 1 & 0 & 4 & 2\\\\\n",
       "\t 22.8 & 4 & 140.8 &  95 & 3.92 & 3.150 & 22.90 & 1 & 0 & 4 & 2\\\\\n",
       "\t 19.2 & 6 & 167.6 & 123 & 3.92 & 3.440 & 18.30 & 1 & 0 & 4 & 4\\\\\n",
       "\\end{tabular}\n"
      ],
      "text/markdown": [
       "\n",
       "A tibble: 10 × 11\n",
       "\n",
       "| mpg &lt;dbl&gt; | cyl &lt;dbl&gt; | disp &lt;dbl&gt; | hp &lt;dbl&gt; | drat &lt;dbl&gt; | wt &lt;dbl&gt; | qsec &lt;dbl&gt; | vs &lt;dbl&gt; | am &lt;dbl&gt; | gear &lt;dbl&gt; | carb &lt;dbl&gt; |\n",
       "|---|---|---|---|---|---|---|---|---|---|---|\n",
       "| 21.0 | 6 | 160.0 | 110 | 3.90 | 2.620 | 16.46 | 0 | 1 | 4 | 4 |\n",
       "| 21.0 | 6 | 160.0 | 110 | 3.90 | 2.875 | 17.02 | 0 | 1 | 4 | 4 |\n",
       "| 22.8 | 4 | 108.0 |  93 | 3.85 | 2.320 | 18.61 | 1 | 1 | 4 | 1 |\n",
       "| 21.4 | 6 | 258.0 | 110 | 3.08 | 3.215 | 19.44 | 1 | 0 | 3 | 1 |\n",
       "| 18.7 | 8 | 360.0 | 175 | 3.15 | 3.440 | 17.02 | 0 | 0 | 3 | 2 |\n",
       "| 18.1 | 6 | 225.0 | 105 | 2.76 | 3.460 | 20.22 | 1 | 0 | 3 | 1 |\n",
       "| 14.3 | 8 | 360.0 | 245 | 3.21 | 3.570 | 15.84 | 0 | 0 | 3 | 4 |\n",
       "| 24.4 | 4 | 146.7 |  62 | 3.69 | 3.190 | 20.00 | 1 | 0 | 4 | 2 |\n",
       "| 22.8 | 4 | 140.8 |  95 | 3.92 | 3.150 | 22.90 | 1 | 0 | 4 | 2 |\n",
       "| 19.2 | 6 | 167.6 | 123 | 3.92 | 3.440 | 18.30 | 1 | 0 | 4 | 4 |\n",
       "\n"
      ],
      "text/plain": [
       "   mpg  cyl disp  hp  drat wt    qsec  vs am gear carb\n",
       "1  21.0 6   160.0 110 3.90 2.620 16.46 0  1  4    4   \n",
       "2  21.0 6   160.0 110 3.90 2.875 17.02 0  1  4    4   \n",
       "3  22.8 4   108.0  93 3.85 2.320 18.61 1  1  4    1   \n",
       "4  21.4 6   258.0 110 3.08 3.215 19.44 1  0  3    1   \n",
       "5  18.7 8   360.0 175 3.15 3.440 17.02 0  0  3    2   \n",
       "6  18.1 6   225.0 105 2.76 3.460 20.22 1  0  3    1   \n",
       "7  14.3 8   360.0 245 3.21 3.570 15.84 0  0  3    4   \n",
       "8  24.4 4   146.7  62 3.69 3.190 20.00 1  0  4    2   \n",
       "9  22.8 4   140.8  95 3.92 3.150 22.90 1  0  4    2   \n",
       "10 19.2 6   167.6 123 3.92 3.440 18.30 1  0  4    4   "
      ]
     },
     "metadata": {},
     "output_type": "display_data"
    }
   ],
   "source": [
    "# exercise 3\n",
    "head(data1,10)"
   ]
  },
  {
   "cell_type": "markdown",
   "metadata": {},
   "source": [
    "\n",
    "### Exercise 4\n",
    "Read the example.log file.\n"
   ]
  },
  {
   "cell_type": "code",
   "execution_count": 6,
   "metadata": {},
   "outputs": [
    {
     "name": "stderr",
     "output_type": "stream",
     "text": [
      "Parsed with column specification:\n",
      "cols(\n",
      "  X1 = \u001b[31mcol_character()\u001b[39m,\n",
      "  X2 = \u001b[33mcol_logical()\u001b[39m,\n",
      "  X3 = \u001b[31mcol_character()\u001b[39m,\n",
      "  X4 = \u001b[31mcol_character()\u001b[39m,\n",
      "  X5 = \u001b[31mcol_character()\u001b[39m,\n",
      "  X6 = \u001b[32mcol_double()\u001b[39m,\n",
      "  X7 = \u001b[32mcol_double()\u001b[39m\n",
      ")\n",
      "\n"
     ]
    },
    {
     "data": {
      "text/html": [
       "<table>\n",
       "<caption>A spec_tbl_df: 2 × 7</caption>\n",
       "<thead>\n",
       "\t<tr><th scope=col>X1</th><th scope=col>X2</th><th scope=col>X3</th><th scope=col>X4</th><th scope=col>X5</th><th scope=col>X6</th><th scope=col>X7</th></tr>\n",
       "\t<tr><th scope=col>&lt;chr&gt;</th><th scope=col>&lt;lgl&gt;</th><th scope=col>&lt;chr&gt;</th><th scope=col>&lt;chr&gt;</th><th scope=col>&lt;chr&gt;</th><th scope=col>&lt;dbl&gt;</th><th scope=col>&lt;dbl&gt;</th></tr>\n",
       "</thead>\n",
       "<tbody>\n",
       "\t<tr><td>172.21.13.45</td><td>NA</td><td>Microsoft\\JohnDoe</td><td>08/Apr/2001:17:39:04 -0800</td><td>GET /scripts/iisadmin/ism.dll?http/serv HTTP/1.0</td><td>200</td><td>3401</td></tr>\n",
       "\t<tr><td>127.0.0.1   </td><td>NA</td><td>frank             </td><td>10/Oct/2000:13:55:36 -0700</td><td>GET /apache_pb.gif HTTP/1.0                     </td><td>200</td><td>2326</td></tr>\n",
       "</tbody>\n",
       "</table>\n"
      ],
      "text/latex": [
       "A spec\\_tbl\\_df: 2 × 7\n",
       "\\begin{tabular}{lllllll}\n",
       " X1 & X2 & X3 & X4 & X5 & X6 & X7\\\\\n",
       " <chr> & <lgl> & <chr> & <chr> & <chr> & <dbl> & <dbl>\\\\\n",
       "\\hline\n",
       "\t 172.21.13.45 & NA & Microsoft\\textbackslash{}JohnDoe & 08/Apr/2001:17:39:04 -0800 & GET /scripts/iisadmin/ism.dll?http/serv HTTP/1.0 & 200 & 3401\\\\\n",
       "\t 127.0.0.1    & NA & frank              & 10/Oct/2000:13:55:36 -0700 & GET /apache\\_pb.gif HTTP/1.0                      & 200 & 2326\\\\\n",
       "\\end{tabular}\n"
      ],
      "text/markdown": [
       "\n",
       "A spec_tbl_df: 2 × 7\n",
       "\n",
       "| X1 &lt;chr&gt; | X2 &lt;lgl&gt; | X3 &lt;chr&gt; | X4 &lt;chr&gt; | X5 &lt;chr&gt; | X6 &lt;dbl&gt; | X7 &lt;dbl&gt; |\n",
       "|---|---|---|---|---|---|---|\n",
       "| 172.21.13.45 | NA | Microsoft\\JohnDoe | 08/Apr/2001:17:39:04 -0800 | GET /scripts/iisadmin/ism.dll?http/serv HTTP/1.0 | 200 | 3401 |\n",
       "| 127.0.0.1    | NA | frank              | 10/Oct/2000:13:55:36 -0700 | GET /apache_pb.gif HTTP/1.0                      | 200 | 2326 |\n",
       "\n"
      ],
      "text/plain": [
       "  X1           X2 X3                 X4                        \n",
       "1 172.21.13.45 NA Microsoft\\\\JohnDoe 08/Apr/2001:17:39:04 -0800\n",
       "2 127.0.0.1    NA frank              10/Oct/2000:13:55:36 -0700\n",
       "  X5                                               X6  X7  \n",
       "1 GET /scripts/iisadmin/ism.dll?http/serv HTTP/1.0 200 3401\n",
       "2 GET /apache_pb.gif HTTP/1.0                      200 2326"
      ]
     },
     "metadata": {},
     "output_type": "display_data"
    }
   ],
   "source": [
    "# exercise 4\n",
    "read_log(readr_example(\"example.log\"))"
   ]
  },
  {
   "cell_type": "markdown",
   "metadata": {},
   "source": [
    "### Exercise 5\n",
    "List all sheets in readxl_example(\"datasets.xlsx\").\n"
   ]
  },
  {
   "cell_type": "code",
   "execution_count": 7,
   "metadata": {},
   "outputs": [
    {
     "data": {
      "text/html": [
       "<style>\n",
       ".list-inline {list-style: none; margin:0; padding: 0}\n",
       ".list-inline>li {display: inline-block}\n",
       ".list-inline>li:not(:last-child)::after {content: \"\\00b7\"; padding: 0 .5ex}\n",
       "</style>\n",
       "<ol class=list-inline><li>'iris'</li><li>'mtcars'</li><li>'chickwts'</li><li>'quakes'</li></ol>\n"
      ],
      "text/latex": [
       "\\begin{enumerate*}\n",
       "\\item 'iris'\n",
       "\\item 'mtcars'\n",
       "\\item 'chickwts'\n",
       "\\item 'quakes'\n",
       "\\end{enumerate*}\n"
      ],
      "text/markdown": [
       "1. 'iris'\n",
       "2. 'mtcars'\n",
       "3. 'chickwts'\n",
       "4. 'quakes'\n",
       "\n",
       "\n"
      ],
      "text/plain": [
       "[1] \"iris\"     \"mtcars\"   \"chickwts\" \"quakes\"  "
      ]
     },
     "metadata": {},
     "output_type": "display_data"
    }
   ],
   "source": [
    "# exercise 5\n",
    "excel_sheets(readxl_example(\"datasets.xlsx\"))\n"
   ]
  },
  {
   "cell_type": "markdown",
   "metadata": {},
   "source": [
    "### Exercise 6\n",
    "Read data from the last sheet."
   ]
  },
  {
   "cell_type": "code",
   "execution_count": 8,
   "metadata": {},
   "outputs": [
    {
     "data": {
      "text/html": [
       "<table>\n",
       "<caption>A tibble: 1000 × 5</caption>\n",
       "<thead>\n",
       "\t<tr><th scope=col>lat</th><th scope=col>long</th><th scope=col>depth</th><th scope=col>mag</th><th scope=col>stations</th></tr>\n",
       "\t<tr><th scope=col>&lt;dbl&gt;</th><th scope=col>&lt;dbl&gt;</th><th scope=col>&lt;dbl&gt;</th><th scope=col>&lt;dbl&gt;</th><th scope=col>&lt;dbl&gt;</th></tr>\n",
       "</thead>\n",
       "<tbody>\n",
       "\t<tr><td>-20.42</td><td>181.62</td><td>562</td><td>4.8</td><td>41</td></tr>\n",
       "\t<tr><td>-20.62</td><td>181.03</td><td>650</td><td>4.2</td><td>15</td></tr>\n",
       "\t<tr><td>-26.00</td><td>184.10</td><td> 42</td><td>5.4</td><td>43</td></tr>\n",
       "\t<tr><td>-17.97</td><td>181.66</td><td>626</td><td>4.1</td><td>19</td></tr>\n",
       "\t<tr><td>-20.42</td><td>181.96</td><td>649</td><td>4.0</td><td>11</td></tr>\n",
       "\t<tr><td>-19.68</td><td>184.31</td><td>195</td><td>4.0</td><td>12</td></tr>\n",
       "\t<tr><td>-11.70</td><td>166.10</td><td> 82</td><td>4.8</td><td>43</td></tr>\n",
       "\t<tr><td>-28.11</td><td>181.93</td><td>194</td><td>4.4</td><td>15</td></tr>\n",
       "\t<tr><td>-28.74</td><td>181.74</td><td>211</td><td>4.7</td><td>35</td></tr>\n",
       "\t<tr><td>-17.47</td><td>179.59</td><td>622</td><td>4.3</td><td>19</td></tr>\n",
       "\t<tr><td>-21.44</td><td>180.69</td><td>583</td><td>4.4</td><td>13</td></tr>\n",
       "\t<tr><td>-12.26</td><td>167.00</td><td>249</td><td>4.6</td><td>16</td></tr>\n",
       "\t<tr><td>-18.54</td><td>182.11</td><td>554</td><td>4.4</td><td>19</td></tr>\n",
       "\t<tr><td>-21.00</td><td>181.66</td><td>600</td><td>4.4</td><td>10</td></tr>\n",
       "\t<tr><td>-20.70</td><td>169.92</td><td>139</td><td>6.1</td><td>94</td></tr>\n",
       "\t<tr><td>-15.94</td><td>184.95</td><td>306</td><td>4.3</td><td>11</td></tr>\n",
       "\t<tr><td>-13.64</td><td>165.96</td><td> 50</td><td>6.0</td><td>83</td></tr>\n",
       "\t<tr><td>-17.83</td><td>181.50</td><td>590</td><td>4.5</td><td>21</td></tr>\n",
       "\t<tr><td>-23.50</td><td>179.78</td><td>570</td><td>4.4</td><td>13</td></tr>\n",
       "\t<tr><td>-22.63</td><td>180.31</td><td>598</td><td>4.4</td><td>18</td></tr>\n",
       "\t<tr><td>-20.84</td><td>181.16</td><td>576</td><td>4.5</td><td>17</td></tr>\n",
       "\t<tr><td>-10.98</td><td>166.32</td><td>211</td><td>4.2</td><td>12</td></tr>\n",
       "\t<tr><td>-23.30</td><td>180.16</td><td>512</td><td>4.4</td><td>18</td></tr>\n",
       "\t<tr><td>-30.20</td><td>182.00</td><td>125</td><td>4.7</td><td>22</td></tr>\n",
       "\t<tr><td>-19.66</td><td>180.28</td><td>431</td><td>5.4</td><td>57</td></tr>\n",
       "\t<tr><td>-17.94</td><td>181.49</td><td>537</td><td>4.0</td><td>15</td></tr>\n",
       "\t<tr><td>-14.72</td><td>167.51</td><td>155</td><td>4.6</td><td>18</td></tr>\n",
       "\t<tr><td>-16.46</td><td>180.79</td><td>498</td><td>5.2</td><td>79</td></tr>\n",
       "\t<tr><td>-20.97</td><td>181.47</td><td>582</td><td>4.5</td><td>25</td></tr>\n",
       "\t<tr><td>-19.84</td><td>182.37</td><td>328</td><td>4.4</td><td>17</td></tr>\n",
       "\t<tr><td>...</td><td>...</td><td>...</td><td>...</td><td>...</td></tr>\n",
       "\t<tr><td>-25.79</td><td>182.38</td><td>172</td><td>4.4</td><td> 14</td></tr>\n",
       "\t<tr><td>-23.75</td><td>184.50</td><td> 54</td><td>5.2</td><td> 74</td></tr>\n",
       "\t<tr><td>-24.10</td><td>184.50</td><td> 68</td><td>4.7</td><td> 23</td></tr>\n",
       "\t<tr><td>-18.56</td><td>169.05</td><td>217</td><td>4.9</td><td> 35</td></tr>\n",
       "\t<tr><td>-23.30</td><td>184.68</td><td>102</td><td>4.9</td><td> 27</td></tr>\n",
       "\t<tr><td>-17.03</td><td>185.74</td><td>178</td><td>4.2</td><td> 32</td></tr>\n",
       "\t<tr><td>-20.77</td><td>183.71</td><td>251</td><td>4.4</td><td> 47</td></tr>\n",
       "\t<tr><td>-28.10</td><td>183.50</td><td> 42</td><td>4.4</td><td> 17</td></tr>\n",
       "\t<tr><td>-18.83</td><td>182.26</td><td>575</td><td>4.3</td><td> 11</td></tr>\n",
       "\t<tr><td>-23.00</td><td>170.70</td><td> 43</td><td>4.9</td><td> 20</td></tr>\n",
       "\t<tr><td>-20.82</td><td>181.67</td><td>577</td><td>5.0</td><td> 67</td></tr>\n",
       "\t<tr><td>-22.95</td><td>170.56</td><td> 42</td><td>4.7</td><td> 21</td></tr>\n",
       "\t<tr><td>-28.22</td><td>183.60</td><td> 75</td><td>4.9</td><td> 49</td></tr>\n",
       "\t<tr><td>-27.99</td><td>183.50</td><td> 71</td><td>4.3</td><td> 22</td></tr>\n",
       "\t<tr><td>-15.54</td><td>187.15</td><td> 60</td><td>4.5</td><td> 17</td></tr>\n",
       "\t<tr><td>-12.37</td><td>166.93</td><td>291</td><td>4.2</td><td> 16</td></tr>\n",
       "\t<tr><td>-22.33</td><td>171.66</td><td>125</td><td>5.2</td><td> 51</td></tr>\n",
       "\t<tr><td>-22.70</td><td>170.30</td><td> 69</td><td>4.8</td><td> 27</td></tr>\n",
       "\t<tr><td>-17.86</td><td>181.30</td><td>614</td><td>4.0</td><td> 12</td></tr>\n",
       "\t<tr><td>-16.00</td><td>184.53</td><td>108</td><td>4.7</td><td> 33</td></tr>\n",
       "\t<tr><td>-20.73</td><td>181.42</td><td>575</td><td>4.3</td><td> 18</td></tr>\n",
       "\t<tr><td>-15.45</td><td>181.42</td><td>409</td><td>4.3</td><td> 27</td></tr>\n",
       "\t<tr><td>-20.05</td><td>183.86</td><td>243</td><td>4.9</td><td> 65</td></tr>\n",
       "\t<tr><td>-17.95</td><td>181.37</td><td>642</td><td>4.0</td><td> 17</td></tr>\n",
       "\t<tr><td>-17.70</td><td>188.10</td><td> 45</td><td>4.2</td><td> 10</td></tr>\n",
       "\t<tr><td>-25.93</td><td>179.54</td><td>470</td><td>4.4</td><td> 22</td></tr>\n",
       "\t<tr><td>-12.28</td><td>167.06</td><td>248</td><td>4.7</td><td> 35</td></tr>\n",
       "\t<tr><td>-20.13</td><td>184.20</td><td>244</td><td>4.5</td><td> 34</td></tr>\n",
       "\t<tr><td>-17.40</td><td>187.80</td><td> 40</td><td>4.5</td><td> 14</td></tr>\n",
       "\t<tr><td>-21.59</td><td>170.56</td><td>165</td><td>6.0</td><td>119</td></tr>\n",
       "</tbody>\n",
       "</table>\n"
      ],
      "text/latex": [
       "A tibble: 1000 × 5\n",
       "\\begin{tabular}{lllll}\n",
       " lat & long & depth & mag & stations\\\\\n",
       " <dbl> & <dbl> & <dbl> & <dbl> & <dbl>\\\\\n",
       "\\hline\n",
       "\t -20.42 & 181.62 & 562 & 4.8 & 41\\\\\n",
       "\t -20.62 & 181.03 & 650 & 4.2 & 15\\\\\n",
       "\t -26.00 & 184.10 &  42 & 5.4 & 43\\\\\n",
       "\t -17.97 & 181.66 & 626 & 4.1 & 19\\\\\n",
       "\t -20.42 & 181.96 & 649 & 4.0 & 11\\\\\n",
       "\t -19.68 & 184.31 & 195 & 4.0 & 12\\\\\n",
       "\t -11.70 & 166.10 &  82 & 4.8 & 43\\\\\n",
       "\t -28.11 & 181.93 & 194 & 4.4 & 15\\\\\n",
       "\t -28.74 & 181.74 & 211 & 4.7 & 35\\\\\n",
       "\t -17.47 & 179.59 & 622 & 4.3 & 19\\\\\n",
       "\t -21.44 & 180.69 & 583 & 4.4 & 13\\\\\n",
       "\t -12.26 & 167.00 & 249 & 4.6 & 16\\\\\n",
       "\t -18.54 & 182.11 & 554 & 4.4 & 19\\\\\n",
       "\t -21.00 & 181.66 & 600 & 4.4 & 10\\\\\n",
       "\t -20.70 & 169.92 & 139 & 6.1 & 94\\\\\n",
       "\t -15.94 & 184.95 & 306 & 4.3 & 11\\\\\n",
       "\t -13.64 & 165.96 &  50 & 6.0 & 83\\\\\n",
       "\t -17.83 & 181.50 & 590 & 4.5 & 21\\\\\n",
       "\t -23.50 & 179.78 & 570 & 4.4 & 13\\\\\n",
       "\t -22.63 & 180.31 & 598 & 4.4 & 18\\\\\n",
       "\t -20.84 & 181.16 & 576 & 4.5 & 17\\\\\n",
       "\t -10.98 & 166.32 & 211 & 4.2 & 12\\\\\n",
       "\t -23.30 & 180.16 & 512 & 4.4 & 18\\\\\n",
       "\t -30.20 & 182.00 & 125 & 4.7 & 22\\\\\n",
       "\t -19.66 & 180.28 & 431 & 5.4 & 57\\\\\n",
       "\t -17.94 & 181.49 & 537 & 4.0 & 15\\\\\n",
       "\t -14.72 & 167.51 & 155 & 4.6 & 18\\\\\n",
       "\t -16.46 & 180.79 & 498 & 5.2 & 79\\\\\n",
       "\t -20.97 & 181.47 & 582 & 4.5 & 25\\\\\n",
       "\t -19.84 & 182.37 & 328 & 4.4 & 17\\\\\n",
       "\t ... & ... & ... & ... & ...\\\\\n",
       "\t -25.79 & 182.38 & 172 & 4.4 &  14\\\\\n",
       "\t -23.75 & 184.50 &  54 & 5.2 &  74\\\\\n",
       "\t -24.10 & 184.50 &  68 & 4.7 &  23\\\\\n",
       "\t -18.56 & 169.05 & 217 & 4.9 &  35\\\\\n",
       "\t -23.30 & 184.68 & 102 & 4.9 &  27\\\\\n",
       "\t -17.03 & 185.74 & 178 & 4.2 &  32\\\\\n",
       "\t -20.77 & 183.71 & 251 & 4.4 &  47\\\\\n",
       "\t -28.10 & 183.50 &  42 & 4.4 &  17\\\\\n",
       "\t -18.83 & 182.26 & 575 & 4.3 &  11\\\\\n",
       "\t -23.00 & 170.70 &  43 & 4.9 &  20\\\\\n",
       "\t -20.82 & 181.67 & 577 & 5.0 &  67\\\\\n",
       "\t -22.95 & 170.56 &  42 & 4.7 &  21\\\\\n",
       "\t -28.22 & 183.60 &  75 & 4.9 &  49\\\\\n",
       "\t -27.99 & 183.50 &  71 & 4.3 &  22\\\\\n",
       "\t -15.54 & 187.15 &  60 & 4.5 &  17\\\\\n",
       "\t -12.37 & 166.93 & 291 & 4.2 &  16\\\\\n",
       "\t -22.33 & 171.66 & 125 & 5.2 &  51\\\\\n",
       "\t -22.70 & 170.30 &  69 & 4.8 &  27\\\\\n",
       "\t -17.86 & 181.30 & 614 & 4.0 &  12\\\\\n",
       "\t -16.00 & 184.53 & 108 & 4.7 &  33\\\\\n",
       "\t -20.73 & 181.42 & 575 & 4.3 &  18\\\\\n",
       "\t -15.45 & 181.42 & 409 & 4.3 &  27\\\\\n",
       "\t -20.05 & 183.86 & 243 & 4.9 &  65\\\\\n",
       "\t -17.95 & 181.37 & 642 & 4.0 &  17\\\\\n",
       "\t -17.70 & 188.10 &  45 & 4.2 &  10\\\\\n",
       "\t -25.93 & 179.54 & 470 & 4.4 &  22\\\\\n",
       "\t -12.28 & 167.06 & 248 & 4.7 &  35\\\\\n",
       "\t -20.13 & 184.20 & 244 & 4.5 &  34\\\\\n",
       "\t -17.40 & 187.80 &  40 & 4.5 &  14\\\\\n",
       "\t -21.59 & 170.56 & 165 & 6.0 & 119\\\\\n",
       "\\end{tabular}\n"
      ],
      "text/markdown": [
       "\n",
       "A tibble: 1000 × 5\n",
       "\n",
       "| lat &lt;dbl&gt; | long &lt;dbl&gt; | depth &lt;dbl&gt; | mag &lt;dbl&gt; | stations &lt;dbl&gt; |\n",
       "|---|---|---|---|---|\n",
       "| -20.42 | 181.62 | 562 | 4.8 | 41 |\n",
       "| -20.62 | 181.03 | 650 | 4.2 | 15 |\n",
       "| -26.00 | 184.10 |  42 | 5.4 | 43 |\n",
       "| -17.97 | 181.66 | 626 | 4.1 | 19 |\n",
       "| -20.42 | 181.96 | 649 | 4.0 | 11 |\n",
       "| -19.68 | 184.31 | 195 | 4.0 | 12 |\n",
       "| -11.70 | 166.10 |  82 | 4.8 | 43 |\n",
       "| -28.11 | 181.93 | 194 | 4.4 | 15 |\n",
       "| -28.74 | 181.74 | 211 | 4.7 | 35 |\n",
       "| -17.47 | 179.59 | 622 | 4.3 | 19 |\n",
       "| -21.44 | 180.69 | 583 | 4.4 | 13 |\n",
       "| -12.26 | 167.00 | 249 | 4.6 | 16 |\n",
       "| -18.54 | 182.11 | 554 | 4.4 | 19 |\n",
       "| -21.00 | 181.66 | 600 | 4.4 | 10 |\n",
       "| -20.70 | 169.92 | 139 | 6.1 | 94 |\n",
       "| -15.94 | 184.95 | 306 | 4.3 | 11 |\n",
       "| -13.64 | 165.96 |  50 | 6.0 | 83 |\n",
       "| -17.83 | 181.50 | 590 | 4.5 | 21 |\n",
       "| -23.50 | 179.78 | 570 | 4.4 | 13 |\n",
       "| -22.63 | 180.31 | 598 | 4.4 | 18 |\n",
       "| -20.84 | 181.16 | 576 | 4.5 | 17 |\n",
       "| -10.98 | 166.32 | 211 | 4.2 | 12 |\n",
       "| -23.30 | 180.16 | 512 | 4.4 | 18 |\n",
       "| -30.20 | 182.00 | 125 | 4.7 | 22 |\n",
       "| -19.66 | 180.28 | 431 | 5.4 | 57 |\n",
       "| -17.94 | 181.49 | 537 | 4.0 | 15 |\n",
       "| -14.72 | 167.51 | 155 | 4.6 | 18 |\n",
       "| -16.46 | 180.79 | 498 | 5.2 | 79 |\n",
       "| -20.97 | 181.47 | 582 | 4.5 | 25 |\n",
       "| -19.84 | 182.37 | 328 | 4.4 | 17 |\n",
       "| ... | ... | ... | ... | ... |\n",
       "| -25.79 | 182.38 | 172 | 4.4 |  14 |\n",
       "| -23.75 | 184.50 |  54 | 5.2 |  74 |\n",
       "| -24.10 | 184.50 |  68 | 4.7 |  23 |\n",
       "| -18.56 | 169.05 | 217 | 4.9 |  35 |\n",
       "| -23.30 | 184.68 | 102 | 4.9 |  27 |\n",
       "| -17.03 | 185.74 | 178 | 4.2 |  32 |\n",
       "| -20.77 | 183.71 | 251 | 4.4 |  47 |\n",
       "| -28.10 | 183.50 |  42 | 4.4 |  17 |\n",
       "| -18.83 | 182.26 | 575 | 4.3 |  11 |\n",
       "| -23.00 | 170.70 |  43 | 4.9 |  20 |\n",
       "| -20.82 | 181.67 | 577 | 5.0 |  67 |\n",
       "| -22.95 | 170.56 |  42 | 4.7 |  21 |\n",
       "| -28.22 | 183.60 |  75 | 4.9 |  49 |\n",
       "| -27.99 | 183.50 |  71 | 4.3 |  22 |\n",
       "| -15.54 | 187.15 |  60 | 4.5 |  17 |\n",
       "| -12.37 | 166.93 | 291 | 4.2 |  16 |\n",
       "| -22.33 | 171.66 | 125 | 5.2 |  51 |\n",
       "| -22.70 | 170.30 |  69 | 4.8 |  27 |\n",
       "| -17.86 | 181.30 | 614 | 4.0 |  12 |\n",
       "| -16.00 | 184.53 | 108 | 4.7 |  33 |\n",
       "| -20.73 | 181.42 | 575 | 4.3 |  18 |\n",
       "| -15.45 | 181.42 | 409 | 4.3 |  27 |\n",
       "| -20.05 | 183.86 | 243 | 4.9 |  65 |\n",
       "| -17.95 | 181.37 | 642 | 4.0 |  17 |\n",
       "| -17.70 | 188.10 |  45 | 4.2 |  10 |\n",
       "| -25.93 | 179.54 | 470 | 4.4 |  22 |\n",
       "| -12.28 | 167.06 | 248 | 4.7 |  35 |\n",
       "| -20.13 | 184.20 | 244 | 4.5 |  34 |\n",
       "| -17.40 | 187.80 |  40 | 4.5 |  14 |\n",
       "| -21.59 | 170.56 | 165 | 6.0 | 119 |\n",
       "\n"
      ],
      "text/plain": [
       "     lat    long   depth mag stations\n",
       "1    -20.42 181.62 562   4.8 41      \n",
       "2    -20.62 181.03 650   4.2 15      \n",
       "3    -26.00 184.10  42   5.4 43      \n",
       "4    -17.97 181.66 626   4.1 19      \n",
       "5    -20.42 181.96 649   4.0 11      \n",
       "6    -19.68 184.31 195   4.0 12      \n",
       "7    -11.70 166.10  82   4.8 43      \n",
       "8    -28.11 181.93 194   4.4 15      \n",
       "9    -28.74 181.74 211   4.7 35      \n",
       "10   -17.47 179.59 622   4.3 19      \n",
       "11   -21.44 180.69 583   4.4 13      \n",
       "12   -12.26 167.00 249   4.6 16      \n",
       "13   -18.54 182.11 554   4.4 19      \n",
       "14   -21.00 181.66 600   4.4 10      \n",
       "15   -20.70 169.92 139   6.1 94      \n",
       "16   -15.94 184.95 306   4.3 11      \n",
       "17   -13.64 165.96  50   6.0 83      \n",
       "18   -17.83 181.50 590   4.5 21      \n",
       "19   -23.50 179.78 570   4.4 13      \n",
       "20   -22.63 180.31 598   4.4 18      \n",
       "21   -20.84 181.16 576   4.5 17      \n",
       "22   -10.98 166.32 211   4.2 12      \n",
       "23   -23.30 180.16 512   4.4 18      \n",
       "24   -30.20 182.00 125   4.7 22      \n",
       "25   -19.66 180.28 431   5.4 57      \n",
       "26   -17.94 181.49 537   4.0 15      \n",
       "27   -14.72 167.51 155   4.6 18      \n",
       "28   -16.46 180.79 498   5.2 79      \n",
       "29   -20.97 181.47 582   4.5 25      \n",
       "30   -19.84 182.37 328   4.4 17      \n",
       "...  ...    ...    ...   ... ...     \n",
       "971  -25.79 182.38 172   4.4  14     \n",
       "972  -23.75 184.50  54   5.2  74     \n",
       "973  -24.10 184.50  68   4.7  23     \n",
       "974  -18.56 169.05 217   4.9  35     \n",
       "975  -23.30 184.68 102   4.9  27     \n",
       "976  -17.03 185.74 178   4.2  32     \n",
       "977  -20.77 183.71 251   4.4  47     \n",
       "978  -28.10 183.50  42   4.4  17     \n",
       "979  -18.83 182.26 575   4.3  11     \n",
       "980  -23.00 170.70  43   4.9  20     \n",
       "981  -20.82 181.67 577   5.0  67     \n",
       "982  -22.95 170.56  42   4.7  21     \n",
       "983  -28.22 183.60  75   4.9  49     \n",
       "984  -27.99 183.50  71   4.3  22     \n",
       "985  -15.54 187.15  60   4.5  17     \n",
       "986  -12.37 166.93 291   4.2  16     \n",
       "987  -22.33 171.66 125   5.2  51     \n",
       "988  -22.70 170.30  69   4.8  27     \n",
       "989  -17.86 181.30 614   4.0  12     \n",
       "990  -16.00 184.53 108   4.7  33     \n",
       "991  -20.73 181.42 575   4.3  18     \n",
       "992  -15.45 181.42 409   4.3  27     \n",
       "993  -20.05 183.86 243   4.9  65     \n",
       "994  -17.95 181.37 642   4.0  17     \n",
       "995  -17.70 188.10  45   4.2  10     \n",
       "996  -25.93 179.54 470   4.4  22     \n",
       "997  -12.28 167.06 248   4.7  35     \n",
       "998  -20.13 184.20 244   4.5  34     \n",
       "999  -17.40 187.80  40   4.5  14     \n",
       "1000 -21.59 170.56 165   6.0 119     "
      ]
     },
     "metadata": {},
     "output_type": "display_data"
    }
   ],
   "source": [
    "# exercise 6\n",
    "read_excel(readxl_example(\"datasets.xlsx\"), sheet = 'quakes')"
   ]
  },
  {
   "cell_type": "markdown",
   "metadata": {},
   "source": [
    "### Exercise 7\n",
    "Load the dplyr package. Install and load the AER package and run the command data(\"Fertility\") which loads the dataset Fertility to your workspace. Take a glimpse() at the data."
   ]
  },
  {
   "cell_type": "code",
   "execution_count": 9,
   "metadata": {},
   "outputs": [
    {
     "name": "stdout",
     "output_type": "stream",
     "text": [
      "Rows: 254,654\n",
      "Columns: 8\n",
      "$ morekids \u001b[3m\u001b[90m<fct>\u001b[39m\u001b[23m no, no, no, no, no, no, no, no, no, no, yes, no, no, no, n...\n",
      "$ gender1  \u001b[3m\u001b[90m<fct>\u001b[39m\u001b[23m male, female, male, male, female, male, female, male, fema...\n",
      "$ gender2  \u001b[3m\u001b[90m<fct>\u001b[39m\u001b[23m female, male, female, female, female, female, male, male, ...\n",
      "$ age      \u001b[3m\u001b[90m<int>\u001b[39m\u001b[23m 27, 30, 27, 35, 30, 26, 29, 33, 29, 27, 28, 28, 35, 34, 32...\n",
      "$ afam     \u001b[3m\u001b[90m<fct>\u001b[39m\u001b[23m no, no, no, yes, no, no, no, no, no, no, no, no, no, no, n...\n",
      "$ hispanic \u001b[3m\u001b[90m<fct>\u001b[39m\u001b[23m no, no, no, no, no, no, no, no, no, no, no, no, no, no, no...\n",
      "$ other    \u001b[3m\u001b[90m<fct>\u001b[39m\u001b[23m no, no, no, no, no, no, no, no, no, no, no, no, no, no, no...\n",
      "$ work     \u001b[3m\u001b[90m<int>\u001b[39m\u001b[23m 0, 30, 0, 0, 22, 40, 0, 52, 0, 0, 0, 52, 52, 52, 8, 7, 0, ...\n"
     ]
    }
   ],
   "source": [
    "# exercise 7\n",
    "data(Fertility, package=\"AER\")\n",
    "f1 <- Fertility\n",
    "glimpse(f1)"
   ]
  },
  {
   "cell_type": "markdown",
   "metadata": {},
   "source": [
    "### Exercise 8\n",
    "Select rows 35 to 50 and print to console its age and work entry."
   ]
  },
  {
   "cell_type": "code",
   "execution_count": 10,
   "metadata": {},
   "outputs": [
    {
     "data": {
      "text/html": [
       "<table>\n",
       "<caption>A data.frame: 16 × 2</caption>\n",
       "<thead>\n",
       "\t<tr><th></th><th scope=col>age</th><th scope=col>work</th></tr>\n",
       "\t<tr><th></th><th scope=col>&lt;int&gt;</th><th scope=col>&lt;int&gt;</th></tr>\n",
       "</thead>\n",
       "<tbody>\n",
       "\t<tr><th scope=row>35</th><td>28</td><td>20</td></tr>\n",
       "\t<tr><th scope=row>36</th><td>33</td><td>12</td></tr>\n",
       "\t<tr><th scope=row>37</th><td>32</td><td> 0</td></tr>\n",
       "\t<tr><th scope=row>38</th><td>26</td><td>52</td></tr>\n",
       "\t<tr><th scope=row>39</th><td>32</td><td>52</td></tr>\n",
       "\t<tr><th scope=row>40</th><td>28</td><td> 0</td></tr>\n",
       "\t<tr><th scope=row>41</th><td>32</td><td>40</td></tr>\n",
       "\t<tr><th scope=row>42</th><td>35</td><td> 0</td></tr>\n",
       "\t<tr><th scope=row>43</th><td>33</td><td> 0</td></tr>\n",
       "\t<tr><th scope=row>44</th><td>32</td><td>42</td></tr>\n",
       "\t<tr><th scope=row>45</th><td>29</td><td> 0</td></tr>\n",
       "\t<tr><th scope=row>46</th><td>29</td><td>52</td></tr>\n",
       "\t<tr><th scope=row>47</th><td>31</td><td> 0</td></tr>\n",
       "\t<tr><th scope=row>48</th><td>30</td><td>51</td></tr>\n",
       "\t<tr><th scope=row>49</th><td>28</td><td> 0</td></tr>\n",
       "\t<tr><th scope=row>50</th><td>29</td><td> 0</td></tr>\n",
       "</tbody>\n",
       "</table>\n"
      ],
      "text/latex": [
       "A data.frame: 16 × 2\n",
       "\\begin{tabular}{r|ll}\n",
       "  & age & work\\\\\n",
       "  & <int> & <int>\\\\\n",
       "\\hline\n",
       "\t35 & 28 & 20\\\\\n",
       "\t36 & 33 & 12\\\\\n",
       "\t37 & 32 &  0\\\\\n",
       "\t38 & 26 & 52\\\\\n",
       "\t39 & 32 & 52\\\\\n",
       "\t40 & 28 &  0\\\\\n",
       "\t41 & 32 & 40\\\\\n",
       "\t42 & 35 &  0\\\\\n",
       "\t43 & 33 &  0\\\\\n",
       "\t44 & 32 & 42\\\\\n",
       "\t45 & 29 &  0\\\\\n",
       "\t46 & 29 & 52\\\\\n",
       "\t47 & 31 &  0\\\\\n",
       "\t48 & 30 & 51\\\\\n",
       "\t49 & 28 &  0\\\\\n",
       "\t50 & 29 &  0\\\\\n",
       "\\end{tabular}\n"
      ],
      "text/markdown": [
       "\n",
       "A data.frame: 16 × 2\n",
       "\n",
       "| <!--/--> | age &lt;int&gt; | work &lt;int&gt; |\n",
       "|---|---|---|\n",
       "| 35 | 28 | 20 |\n",
       "| 36 | 33 | 12 |\n",
       "| 37 | 32 |  0 |\n",
       "| 38 | 26 | 52 |\n",
       "| 39 | 32 | 52 |\n",
       "| 40 | 28 |  0 |\n",
       "| 41 | 32 | 40 |\n",
       "| 42 | 35 |  0 |\n",
       "| 43 | 33 |  0 |\n",
       "| 44 | 32 | 42 |\n",
       "| 45 | 29 |  0 |\n",
       "| 46 | 29 | 52 |\n",
       "| 47 | 31 |  0 |\n",
       "| 48 | 30 | 51 |\n",
       "| 49 | 28 |  0 |\n",
       "| 50 | 29 |  0 |\n",
       "\n"
      ],
      "text/plain": [
       "   age work\n",
       "35 28  20  \n",
       "36 33  12  \n",
       "37 32   0  \n",
       "38 26  52  \n",
       "39 32  52  \n",
       "40 28   0  \n",
       "41 32  40  \n",
       "42 35   0  \n",
       "43 33   0  \n",
       "44 32  42  \n",
       "45 29   0  \n",
       "46 29  52  \n",
       "47 31   0  \n",
       "48 30  51  \n",
       "49 28   0  \n",
       "50 29   0  "
      ]
     },
     "metadata": {},
     "output_type": "display_data"
    }
   ],
   "source": [
    "# exercise 8\n",
    "f1[35:50,c(4,8)]"
   ]
  },
  {
   "cell_type": "markdown",
   "metadata": {},
   "source": [
    "### Exercise 9\n",
    "Select the last row in the dataset and print to console.\n"
   ]
  },
  {
   "cell_type": "code",
   "execution_count": 11,
   "metadata": {},
   "outputs": [
    {
     "data": {
      "text/html": [
       "<table>\n",
       "<caption>A data.frame: 1 × 8</caption>\n",
       "<thead>\n",
       "\t<tr><th></th><th scope=col>morekids</th><th scope=col>gender1</th><th scope=col>gender2</th><th scope=col>age</th><th scope=col>afam</th><th scope=col>hispanic</th><th scope=col>other</th><th scope=col>work</th></tr>\n",
       "\t<tr><th></th><th scope=col>&lt;fct&gt;</th><th scope=col>&lt;fct&gt;</th><th scope=col>&lt;fct&gt;</th><th scope=col>&lt;int&gt;</th><th scope=col>&lt;fct&gt;</th><th scope=col>&lt;fct&gt;</th><th scope=col>&lt;fct&gt;</th><th scope=col>&lt;int&gt;</th></tr>\n",
       "</thead>\n",
       "<tbody>\n",
       "\t<tr><th scope=row>254654</th><td>yes</td><td>female</td><td>female</td><td>35</td><td>no</td><td>no</td><td>no</td><td>0</td></tr>\n",
       "</tbody>\n",
       "</table>\n"
      ],
      "text/latex": [
       "A data.frame: 1 × 8\n",
       "\\begin{tabular}{r|llllllll}\n",
       "  & morekids & gender1 & gender2 & age & afam & hispanic & other & work\\\\\n",
       "  & <fct> & <fct> & <fct> & <int> & <fct> & <fct> & <fct> & <int>\\\\\n",
       "\\hline\n",
       "\t254654 & yes & female & female & 35 & no & no & no & 0\\\\\n",
       "\\end{tabular}\n"
      ],
      "text/markdown": [
       "\n",
       "A data.frame: 1 × 8\n",
       "\n",
       "| <!--/--> | morekids &lt;fct&gt; | gender1 &lt;fct&gt; | gender2 &lt;fct&gt; | age &lt;int&gt; | afam &lt;fct&gt; | hispanic &lt;fct&gt; | other &lt;fct&gt; | work &lt;int&gt; |\n",
       "|---|---|---|---|---|---|---|---|---|\n",
       "| 254654 | yes | female | female | 35 | no | no | no | 0 |\n",
       "\n"
      ],
      "text/plain": [
       "       morekids gender1 gender2 age afam hispanic other work\n",
       "254654 yes      female  female  35  no   no       no    0   "
      ]
     },
     "metadata": {},
     "output_type": "display_data"
    }
   ],
   "source": [
    "# exercise 9\n",
    "tail(f1, 1)"
   ]
  },
  {
   "cell_type": "markdown",
   "metadata": {},
   "source": [
    "### Exercise 10\n",
    "Count how many women proceeded to have a third child."
   ]
  },
  {
   "cell_type": "code",
   "execution_count": 12,
   "metadata": {},
   "outputs": [
    {
     "data": {
      "text/html": [
       "96912"
      ],
      "text/latex": [
       "96912"
      ],
      "text/markdown": [
       "96912"
      ],
      "text/plain": [
       "[1] 96912"
      ]
     },
     "metadata": {},
     "output_type": "display_data"
    }
   ],
   "source": [
    "# exercise 10\n",
    "count(f1, morekids == \"yes\")[2,2]"
   ]
  },
  {
   "cell_type": "markdown",
   "metadata": {},
   "source": [
    "### Exercise 11\n",
    "There are four possible gender combinations for the first two children. Which is the most common?"
   ]
  },
  {
   "cell_type": "code",
   "execution_count": 13,
   "metadata": {},
   "outputs": [],
   "source": [
    "# exercise 11"
   ]
  },
  {
   "cell_type": "code",
   "execution_count": 13,
   "metadata": {},
   "outputs": [
    {
     "name": "stdout",
     "output_type": "stream",
     "text": [
      "[1] \"Male, male:\"\n"
     ]
    },
    {
     "data": {
      "text/html": [
       "67799"
      ],
      "text/latex": [
       "67799"
      ],
      "text/markdown": [
       "67799"
      ],
      "text/plain": [
       "[1] 67799"
      ]
     },
     "metadata": {},
     "output_type": "display_data"
    },
    {
     "name": "stdout",
     "output_type": "stream",
     "text": [
      "[1] \"Male, female:\"\n"
     ]
    },
    {
     "data": {
      "text/html": [
       "63185"
      ],
      "text/latex": [
       "63185"
      ],
      "text/markdown": [
       "63185"
      ],
      "text/plain": [
       "[1] 63185"
      ]
     },
     "metadata": {},
     "output_type": "display_data"
    },
    {
     "name": "stdout",
     "output_type": "stream",
     "text": [
      "[1] \"Female, male:\"\n"
     ]
    },
    {
     "data": {
      "text/html": [
       "62724"
      ],
      "text/latex": [
       "62724"
      ],
      "text/markdown": [
       "62724"
      ],
      "text/plain": [
       "[1] 62724"
      ]
     },
     "metadata": {},
     "output_type": "display_data"
    },
    {
     "name": "stdout",
     "output_type": "stream",
     "text": [
      "[1] \"Female, female:\"\n"
     ]
    },
    {
     "data": {
      "text/html": [
       "60946"
      ],
      "text/latex": [
       "60946"
      ],
      "text/markdown": [
       "60946"
      ],
      "text/plain": [
       "[1] 60946"
      ]
     },
     "metadata": {},
     "output_type": "display_data"
    }
   ],
   "source": [
    "print(\"Male, male:\")\n",
    "count(f1, gender1 == \"male\" & gender2 == \"male\")[2,2]\n",
    "print(\"Male, female:\")\n",
    "count(f1, gender1 == \"male\" & gender2 == \"female\")[2,2]\n",
    "print(\"Female, male:\")\n",
    "count(f1, gender1 == \"female\" & gender2 == \"male\")[2,2]\n",
    "print(\"Female, female:\")\n",
    "count(f1, gender1 == \"female\" & gender2 == \"female\")[2,2]"
   ]
  },
  {
   "cell_type": "code",
   "execution_count": null,
   "metadata": {},
   "outputs": [],
   "source": []
  }
 ],
 "metadata": {
  "kernelspec": {
   "display_name": "R",
   "language": "R",
   "name": "ir"
  },
  "language_info": {
   "codemirror_mode": "r",
   "file_extension": ".r",
   "mimetype": "text/x-r-source",
   "name": "R",
   "pygments_lexer": "r",
   "version": "4.0.1"
  }
 },
 "nbformat": 4,
 "nbformat_minor": 4
}
