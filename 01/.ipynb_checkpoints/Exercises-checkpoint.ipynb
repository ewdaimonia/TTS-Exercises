{
 "cells": [
  {
   "cell_type": "markdown",
   "metadata": {},
   "source": [
    "<a id=\"Exercises-variables\"></a>\n",
    "Exercises for module 01\n"
   ]
  },
  {
   "cell_type": "markdown",
   "metadata": {},
   "source": [
    "<a id=\"Exercises-variables\"></a>\n",
    "Exercises\n",
    "---\n",
    "#### Hello World - variable\n",
    "\n",
    "- Store your own version of the message \"Hello World\" in a variable, and print it.\n",
    "\n",
    "#### One Variable, Two Messages:\n",
    "- Store a message in a variable, and then print that message.\n",
    "- Store a new message in the same variable, and then print that new message.\n"
   ]
  },
  {
   "cell_type": "code",
   "execution_count": null,
   "metadata": {},
   "outputs": [],
   "source": [
    "message = \"Hello world, my favorite author is Ursula K LeGuin\"\n",
    "print(message)"
   ]
  },
  {
   "cell_type": "code",
   "execution_count": null,
   "metadata": {},
   "outputs": [],
   "source": [
    "message1 = \"What\\'s your favorite movie? \"\n",
    "message2 = \"Oh, that's cool\"\n",
    "print(message1)\n",
    "print(message2)"
   ]
  },
  {
   "cell_type": "markdown",
   "metadata": {},
   "source": [
    "<a id=\"Exercises-strings\"></a>\n",
    "Exercises\n",
    "---\n",
    "#### Someone Said\n",
    "- Find a quote that you like. Store the quote in a variable, with an appropriate introduction such as \"Ken Thompson once said, 'One of my most productive days was throwing away 1000 lines of code'\". Print the quote.\n",
    "\n",
    "#### First Name Cases\n",
    "- Store your first name, in lowercase, in a variable.\n",
    "- Using that one variable, print your name in lowercase, Titlecase, and UPPERCASE.\n",
    "\n",
    "#### Full Name\n",
    "- Store your first name and last name in separate variables, and then combine them to print out your full name.\n",
    "\n",
    "#### About This Person\n",
    "- Choose a person you look up to. Store their first and last names in separate variables.\n",
    "- Use concatenation to make a sentence about this person, and store that sentence in a variable.-\n",
    "- Print the sentence.\n",
    "\n",
    "#### Name Strip\n",
    "- Store your first name in a variable, but include at least two kinds of whitespace on each side of your name.\n",
    "- Print your name as it is stored.\n",
    "- Print your name with whitespace stripped from the left side, then from the right side, then from both sides."
   ]
  },
  {
   "cell_type": "code",
   "execution_count": null,
   "metadata": {},
   "outputs": [],
   "source": [
    "author = \"Ursula K LeGuin\"\n",
    "quote = \"The only thing that makes life possible is permanent, intolerable uncertainty; not knowing what comes next.\"\n",
    "\n",
    "print(author + \" once said, \\\"\" + quote + \"\\\"\")"
   ]
  },
  {
   "cell_type": "code",
   "execution_count": null,
   "metadata": {},
   "outputs": [],
   "source": [
    "name = \"Gabe\"\n",
    "print(name.lower())\n",
    "print(name.title())\n",
    "print(name.upper())"
   ]
  },
  {
   "cell_type": "code",
   "execution_count": null,
   "metadata": {},
   "outputs": [],
   "source": [
    "fName = \"Gabe\"\n",
    "lName = \"Smith\"\n",
    "\n",
    "print(fName + \" \" + lName)"
   ]
  },
  {
   "cell_type": "code",
   "execution_count": null,
   "metadata": {},
   "outputs": [],
   "source": [
    "fName = \"Cassie\"\n",
    "lName = \"Stirm\"\n",
    "\n",
    "sentence = (fName + \" \" + lName + \" \" + \"knows so much about appraising and is so smart.\")\n",
    "print(sentence)"
   ]
  },
  {
   "cell_type": "code",
   "execution_count": null,
   "metadata": {},
   "outputs": [],
   "source": [
    "name = \"  gabe  \"\n",
    "\n",
    "print(name)\n",
    "print(name.strip())\n",
    "print(name.lstrip())\n",
    "print(name.rstrip())"
   ]
  },
  {
   "cell_type": "markdown",
   "metadata": {},
   "source": [
    "<a id=\"Exercises-numbers\"></a>\n",
    "Exercises\n",
    "---\n",
    "#### Arithmetic\n",
    "- Write a program that prints out the results of at least one calculation for each of the basic operations: addition, subtraction, multiplication, division, and exponents.\n",
    "\n",
    "#### Order of Operations\n",
    "- Find a calculation whose result depends on the order of operations.\n",
    "- Print the result of this calculation using the standard order of operations.\n",
    "- Use parentheses to force a nonstandard order of operations. Print the result of this calculation.\n",
    "\n",
    "#### Long Decimals\n",
    "- On paper, 0.1+0.2=0.3. But you have seen that in Python, 0.1+0.2=0.30000000000000004.\n",
    "- Find at least one other calculation that results in a long decimal like this.\n",
    "\n",
    "#### Python 2 or Python 3?\n",
    "- Use integer division to show whether your Python interpeter is using Python 2 or Python 3."
   ]
  },
  {
   "cell_type": "code",
   "execution_count": 4,
   "metadata": {},
   "outputs": [
    {
     "name": "stdout",
     "output_type": "stream",
     "text": [
      "5+6=11\n",
      "5-6=-1\n",
      "5*6=30\n",
      "5/6=0.8333333333333334\n",
      "5**6=15625\n",
      "5//6=0\n"
     ]
    }
   ],
   "source": [
    "num1 = 5\n",
    "num2 = 6\n",
    "num3 = 8\n",
    "print(str(num1) + \"+\" + str(num2) + \"=\" + str(num1+num2)) \n",
    "print(str(num1) + \"-\" + str(num2) + \"=\" + str(num1-num2)) \n",
    "print(str(num1) + \"*\" + str(num2) + \"=\" + str(num1*num2)) \n",
    "print(str(num1) + \"/\" + str(num2) + \"=\" + str(num1/num2)) \n",
    "print(str(num1) + \"**\" + str(num2) + \"=\" + str(num1**num2)) \n",
    "print(str(num1) + \"//\" + str(num2) + \"=\" + str(num1//num2)) "
   ]
  },
  {
   "cell_type": "code",
   "execution_count": 6,
   "metadata": {},
   "outputs": [
    {
     "name": "stdout",
     "output_type": "stream",
     "text": [
      "4.9952\n",
      "648.0\n"
     ]
    }
   ],
   "source": [
    "num = 5 - 2 * 300 / 50**3\n",
    "print(num)\n",
    "num = (5 - 2) * (300 / 50)**3\n",
    "print(num)"
   ]
  },
  {
   "cell_type": "code",
   "execution_count": 17,
   "metadata": {},
   "outputs": [
    {
     "name": "stdout",
     "output_type": "stream",
     "text": [
      "0.020000000000000004\n"
     ]
    }
   ],
   "source": [
    "num = 0.1 * 0.2\n",
    "print(num)"
   ]
  },
  {
   "cell_type": "code",
   "execution_count": 18,
   "metadata": {},
   "outputs": [
    {
     "name": "stdout",
     "output_type": "stream",
     "text": [
      "If this number has a decimal point, then you are using Python 3: 1.2\n"
     ]
    }
   ],
   "source": [
    "check = 6/5\n",
    "print(\"If this number has a decimal point, then you are using Python 3: \" + str(check))"
   ]
  },
  {
   "cell_type": "markdown",
   "metadata": {},
   "source": [
    "<a id=\"Challenges-numbers\">\n",
    "Challenges\n",
    "---\n",
    "#### Neat Arithmetic\n",
    "\n",
    "- Store the results of at least 5 different calculations in separate variables. Make sure you use each operation at least once.\n",
    "- Print a series of informative statements, such as \"The result of the calculation 5+7 is 12.\"\n",
    "\n",
    "#### Neat Order of Operations\n",
    "- Take your work for \"Order of Operations\" above.\n",
    "- Instead of just printing the results, print an informative summary of the results. Show each calculation that is being done and the result of that calculation. Explain how you modified the result using parentheses.\n",
    "\n",
    "#### Long Decimals - Pattern\n",
    "- On paper, 0.1+0.2=0.3. But you have seen that in Python, 0.1+0.2=0.30000000000000004.\n",
    "- Find a number of other calculations that result in a long decimal like this. Try to find a pattern in what kinds of numbers will result in long decimals.\n",
    "\n",
    "#### Python 2 and Python 3\n",
    "- Find a way to make your computer interpret 3/2 once in Python 2, and once in Python 3.\n",
    "- (HINT) Don't spend too much time on this, unless you like reading on forums about installing from packages and what not.\n",
    "\n",
    "    If you just want to play around with Python 2 and Python 3, you can easily do so on [pythontutor.com](http://pythontutor.com/). Click \"Start using Online Python Tutor now\", and then delete the sample code in the text box so you can enter your own code. On that page, there is a drop-down list just below the text box that lets you select different versions of Python. Click \"Visualize Execution\" to run your code. On the next page, you can either click \"Forward\" to step through your code one line at a time, or click \"Last\" to run your entire program."
   ]
  },
  {
   "cell_type": "code",
   "execution_count": 20,
   "metadata": {},
   "outputs": [
    {
     "name": "stdout",
     "output_type": "stream",
     "text": [
      "The result of the calculation 5+6 is 11\n",
      "The result of the calculation 5-6 is -1\n",
      "The result of the calculation 5*6 is 30\n",
      "The result of the calculation 5/6 is 0.8333333333333334\n",
      "The result of the calculation 5**6 is 15625\n",
      "The result of the calculation 5//6 is 0\n"
     ]
    }
   ],
   "source": [
    "num1 = 5\n",
    "num2 = 6\n",
    "num3 = 8\n",
    "print(\"The result of the calculation \" + str(num1) + \"+\" + str(num2) + \" is \" + str(num1+num2)) \n",
    "print(\"The result of the calculation \" + str(num1) + \"-\" + str(num2) + \" is \" + str(num1-num2)) \n",
    "print(\"The result of the calculation \" + str(num1) + \"*\" + str(num2) + \" is \" + str(num1*num2)) \n",
    "print(\"The result of the calculation \" + str(num1) + \"/\" + str(num2) + \" is \" + str(num1/num2)) \n",
    "print(\"The result of the calculation \" + str(num1) + \"**\" + str(num2) + \" is \" + str(num1**num2)) \n",
    "print(\"The result of the calculation \" + str(num1) + \"//\" + str(num2) + \" is \" + str(num1//num2)) "
   ]
  },
  {
   "cell_type": "code",
   "execution_count": 28,
   "metadata": {},
   "outputs": [
    {
     "name": "stdout",
     "output_type": "stream",
     "text": [
      "The first equation is 5-2*300/50**3\n",
      "The result of the first equation: 4.9952\n",
      "The second equation is (5-2)*(300/50)**3\n",
      "The result of the first equation: 648.0\n",
      " \n",
      "By placing the initial subtraction in parentheses, we ensure that the subtraction will occur before 2 is altered in anyway. The second set of parentheses ensures that the exponent will make the final number much larger because it will effect the result of the division of 300/50, instead of effecting the 50 prior to division.\n"
     ]
    }
   ],
   "source": [
    "def neatOOO(nums):\n",
    "    num = nums[0] - nums[1] * nums[2] / nums[3]**nums[4]\n",
    "    print(\"The first equation is \" + str(nums[0]) + \"-\" + str(nums[1]) + \"*\" + str(nums[2]) + \"/\" + str(nums[3]) + \"**\" + str(nums[4]))\n",
    "    print(\"The result of the first equation: \" + str(num))\n",
    "    num = (nums[0] - nums[1]) * (nums[2] / nums[3])**nums[4]\n",
    "    print(\"The second equation is (\" + str(nums[0]) + \"-\" + str(nums[1]) + \")*(\" + str(nums[2]) + \"/\" + str(nums[3]) + \")**\" + str(nums[4]))\n",
    "    print(\"The result of the first equation: \" + str(num))\n",
    "    print(\" \")\n",
    "    print(\"By placing the initial subtraction in parentheses, we ensure that the subtraction will occur before 2 is altered in anyway. The second set of parentheses ensures that the exponent will make the final number much larger because it will effect the result of the division of 300/50, instead of effecting the 50 prior to division.\")\n",
    "\n",
    "neatOOO([5, 2, 300, 50, 3])"
   ]
  },
  {
   "cell_type": "code",
   "execution_count": 2,
   "metadata": {},
   "outputs": [
    {
     "name": "stdout",
     "output_type": "stream",
     "text": [
      "0.1+0.2=0.30000000000000004\n",
      "0.1+0.7=0.7999999999999999\n",
      "0.2+0.1=0.30000000000000004\n",
      "0.2+0.4=0.6000000000000001\n",
      "0.4+0.2=0.6000000000000001\n",
      "0.4+0.8=1.2000000000000002\n",
      "0.6+0.7=1.2999999999999998\n",
      "0.7+0.1=0.7999999999999999\n",
      "0.7+0.6=1.2999999999999998\n",
      "0.8+0.4=1.2000000000000002\n",
      "Above is a list of additions 0.1 through 1 which will result in the issue.\n",
      "It seems to always result from interactions with .1, .2, and .3 because these numbers are not perfectly represented by the binary number system.\n"
     ]
    }
   ],
   "source": [
    "for i in range(0, 10, 1):\n",
    "    for j in range(0, 10, 1):\n",
    "        if(((i/10 + j/10) * 10) != int((i/10 + j/10)*10)):\n",
    "            print(str(i/10)+ \"+\" + str(j/10) + \"=\" + str(i/10 + j/10))\n",
    "print(\"Above is a list of additions 0.1 through 1 which will result in the issue.\")\n",
    "print(\"It seems to always result from interactions with .1, .2, and .3 because these numbers are not perfectly represented by the binary number system.\")"
   ]
  },
  {
   "cell_type": "code",
   "execution_count": null,
   "metadata": {},
   "outputs": [],
   "source": [
    "#Place the following code into Python tutor and switch the version from 3 to 2 to see the difference. \n",
    "#In my own personal experience, I've had to switch Java versions for a few classes I've taken.\n",
    "#To do that, I switched the path variables to the location of the different version.\n",
    "\n",
    "print(3/2)"
   ]
  },
  {
   "cell_type": "markdown",
   "metadata": {},
   "source": [
    "<a id=\"Exercises-comments\"></a>\n",
    "Exercises\n",
    "---\n",
    "#### First Comments\n",
    "- Choose the longest, most difficult, or most interesting program you have written so far. Write at least one comment in your program.\n"
   ]
  },
  {
   "cell_type": "code",
   "execution_count": 3,
   "metadata": {},
   "outputs": [
    {
     "name": "stdout",
     "output_type": "stream",
     "text": [
      "My name is Cassie Stirm and I am 26\n",
      "My name is John Doe and I am 40 and I owe a balance of 500\n"
     ]
    }
   ],
   "source": [
    "# A class is like a blueprint for creating objects. An object has properties and methods(functions) associated with it. Almost everything in Python is an object.\n",
    "# Here's a simple demostration of classes and objects which I wrote for a python crash course last year. It's pretty simple, but gets the idea across.\n",
    "\n",
    "# The class keyword allows us to start defining a class\n",
    "class User:\n",
    "    # The lines below this are the definition of a constructor for our class, they will determine how a class is instantiated into an object\n",
    "    # You can make multiple and can overload them to allow for different types of objects to be created depending upon what is passed into the constructor\n",
    "    def __init__(self, name, email, age):\n",
    "        self.name = name\n",
    "        self.email = email\n",
    "        self.age = age\n",
    "    def hasBirthday(self):\n",
    "        self.age += 1\n",
    "    def greeting(self):\n",
    "        return f'My name is {self.name} and I am {self.age}'\n",
    "\n",
    "# Here we are instantiating the class and creating pointers in memory which point to where the custom objects are stored in memory.\n",
    "gabe = User('Gabe Smith', 'blahblahblah@gmail.com', 29)\n",
    "cassie = User('Cassie Stirm', 'blahblahblah2@gmail.com', 25)\n",
    "\n",
    "# Here we are simply updating a variable of an object (or a property), this is poor practice and we should use getters and setters to obfuscate how we wrote our code and maintain encapsulation\n",
    "gabe.age = 29\n",
    "\n",
    "# Here we are calling a function of an object which is called a method, this one takes no parameters and updates a property.\n",
    "cassie.hasBirthday()\n",
    "print(cassie.greeting())\n",
    "\n",
    "# Here we are showing another principle of OOP, inheritance, the customer class and all customer objects inherit methods and potential variables from the parent class\n",
    "class Customer(User):\n",
    "    def __init__(self, name, email, age):\n",
    "        self.name = name\n",
    "        self.email = email\n",
    "        self.age = age\n",
    "        self.balance = 0\n",
    "    def setBalance(self, balance):\n",
    "        self.balance = balance\n",
    "    def greeting(self):\n",
    "        return f'My name is {self.name} and I am {self.age} and I owe a balance of {self.balance}'\n",
    "\n",
    "# Calling the constructor with the params passed \n",
    "john = Customer('John Doe', 'john@gmail.com', 40)\n",
    "\n",
    "# Calling the setter to change an instance variable\n",
    "john.setBalance(500)\n",
    "\n",
    "# Printing the string resulting from the greeting method of the customer object\n",
    "print(john.greeting())\n"
   ]
  },
  {
   "cell_type": "markdown",
   "metadata": {},
   "source": [
    "Overall Challenges\n",
    "===\n",
    "We have learned quite a bit so far about programming, but we haven't learned enough yet for you to go create something. In the next notebook, things will get much more interesting, and there will be a longer list of overall challenges.\n",
    "\n",
    "<blank>\n",
    "\n",
    "#### What I've Learned\n",
    "- Write a program that uses everything you have learned in this notebook at least once.\n",
    "- Write comments that label each section of your program.\n",
    "- For each thing your program does, write at least one line of output that explains what your program did.\n",
    "- For example, you might have one line that stores your name with some whitespace in a variable, and a second line that strips that whitespace from your name:"
   ]
  },
  {
   "cell_type": "code",
   "execution_count": 26,
   "metadata": {},
   "outputs": [
    {
     "name": "stdout",
     "output_type": "stream",
     "text": [
      "Please enter your name: Gabe\n",
      "Welcome Gabe, you awaken in a dark cave with little to no light other than an old candle which is poorly fastened to the wall.\n",
      "Cave Adventure Menu\n",
      "Score: 0\n",
      "1. Take candle.\n",
      "2. Peer into darkness.\n",
      "3. Go back to sleep.\n",
      "4. Quit.\n",
      "\n",
      "What will you do? 1\n",
      "You rip the candle from the wall and now might be able to see into the darkness a bit easier.\n",
      "Cave Adventure Menu\n",
      "Score: 10\n",
      "1. Take candle.\n",
      "2. Peer into darkness.\n",
      "3. Go back to sleep.\n",
      "4. Quit.\n",
      "\n",
      "What will you do? 3\n",
      "You decide you need more rest before you can explore the rest of the cave, you take a killer nap.\n",
      "Cave Adventure Menu\n",
      "Score: 60\n",
      "1. Take candle.\n",
      "2. Peer into darkness.\n",
      "3. Go back to sleep.\n",
      "4. Quit.\n",
      "\n",
      "What will you do? 3\n",
      "You have already slept too much. Did you know sleeping too much is a symptom of seasonal affective disorder?\n",
      "Cave Adventure Menu\n",
      "Score: 55\n",
      "1. Take candle.\n",
      "2. Peer into darkness.\n",
      "3. Go back to sleep.\n",
      "4. Quit.\n",
      "\n",
      "What will you do? 3\n",
      "You have already slept too much. Did you know sleeping too much is a symptom of seasonal affective disorder?\n",
      "Cave Adventure Menu\n",
      "Score: 50\n",
      "1. Take candle.\n",
      "2. Peer into darkness.\n",
      "3. Go back to sleep.\n",
      "4. Quit.\n",
      "\n",
      "What will you do? 2\n",
      "As you peer into the darkness, you notice a wild boar and because you have the candle, you are able to scare it with the flame momentarily.\n",
      "While the boar is recovering from its minor flame fright, you are able to sprint past it and out of the cave!!\n",
      "You have won the Cave Adventure!!\n",
      "Game over, Gabe, you scored: 5050\n"
     ]
    }
   ],
   "source": [
    "# This is a little text based game I wrote in one of my first C++ classes.\n",
    "# I edited it so it would run in python. I also made it a little more object oriented.\n",
    "# There are some glaring problems still, such as unecessary else statements, and little to no validation.\n",
    "# But it's still a fun little project I always liked.\n",
    "\n",
    "\n",
    "class Game:\n",
    "    def __init__(self, name):\n",
    "        self.name = name\n",
    "        self.score = 0\n",
    "        self.choice = 0\n",
    "        self.candle = 0\n",
    "        self.napTaken = 0\n",
    "\n",
    "    def welcome(self):\n",
    "        print(f'Welcome {self.name}, you awaken in a dark cave with little to no light other than an old candle which is poorly fastened to the wall.')\n",
    "\n",
    "    def switcher(self):\n",
    "        if(self.choice == 1):\n",
    "            if(self.candle == 0):\n",
    "                print(\n",
    "                    \"You rip the candle from the wall and now might be able to see into the darkness a bit easier.\")\n",
    "                self.score += 10\n",
    "                self.candle = 1\n",
    "            else:\n",
    "                print(\"You already hold the candle.\")\n",
    "        if(self.choice == 2):\n",
    "            if(self.candle == 1 & self.napTaken == 1):\n",
    "                print(\"As you peer into the darkness, you notice a wild boar and because you have the candle, you are able to scare it with the flame momentarily.\")\n",
    "                print(\n",
    "                    \"While the boar is recovering from its minor flame fright, you are able to sprint past it and out of the cave!!\")\n",
    "                print(\"You have won the Cave Adventure!!\")\n",
    "                self.score += 5000\n",
    "                self.choice = 4\n",
    "            else:\n",
    "                print(\n",
    "                    \"As you peer into the darkness, you hear some grunting and a wild boar pounces upon you!\")\n",
    "                print(\"You have no time to react and are slain by the evil beast.\")\n",
    "                print(\"You have died and have lost Cave Adventure.\")\n",
    "                self.score -= 5000\n",
    "                self.choice = 4\n",
    "        if(self.choice == 3):\n",
    "            if(self.napTaken == 0):\n",
    "                print(\n",
    "                    \"You decide you need more rest before you can explore the rest of the cave, you take a killer nap.\")\n",
    "                self.score += 50\n",
    "                self.napTaken = 1\n",
    "            else:\n",
    "                print(\n",
    "                    \"You have already slept too much. Did you know sleeping too much is a symptom of seasonal affective disorder?\")\n",
    "                self.score -= 5\n",
    "        if(self.choice == 4):\n",
    "            print(f'Game over, {self.name}, you scored: {self.score}')\n",
    "            self.choice = 4\n",
    "        if(((self.choice) < 1) & (self.choice > 4)):\n",
    "            print(\"That is not an option.\")\n",
    "\n",
    "    def menu(self):\n",
    "        while(self.choice != 4):\n",
    "            if(self.choice != 4):\n",
    "                print(\"Cave Adventure Menu\")\n",
    "                print(f'Score: {self.score}')\n",
    "                print(\"1. Take candle.\")\n",
    "                print(\"2. Peer into darkness.\")\n",
    "                print(\"3. Go back to sleep.\")\n",
    "                print(\"4. Quit.\")\n",
    "                print()\n",
    "                self.choice = (int(input(\"What will you do? \")))\n",
    "                self.switcher()\n",
    "            else:\n",
    "                print(f'Game over, {self.name}, you scored: {self.score}')\n",
    "                break\n",
    "\n",
    "\n",
    "def main():\n",
    "    newGame = Game(input(\"Please enter your name: \"))\n",
    "    newGame.welcome()\n",
    "    newGame.menu()\n",
    "\n",
    "\n",
    "if __name__ == \"__main__\":\n",
    "    main()\n"
   ]
  },
  {
   "cell_type": "code",
   "execution_count": null,
   "metadata": {},
   "outputs": [],
   "source": []
  }
 ],
 "metadata": {
  "kernelspec": {
   "display_name": "Python 3",
   "language": "python",
   "name": "python3"
  },
  "language_info": {
   "codemirror_mode": {
    "name": "ipython",
    "version": 3
   },
   "file_extension": ".py",
   "mimetype": "text/x-python",
   "name": "python",
   "nbconvert_exporter": "python",
   "pygments_lexer": "ipython3",
   "version": "3.7.6"
  }
 },
 "nbformat": 4,
 "nbformat_minor": 4
}
